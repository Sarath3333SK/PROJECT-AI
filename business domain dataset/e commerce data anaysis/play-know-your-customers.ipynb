{
 "cells": [
  {
   "cell_type": "code",
   "execution_count": 1,
   "id": "840c7efa",
   "metadata": {
    "execution": {
     "iopub.execute_input": "2022-01-17T15:17:01.716276Z",
     "iopub.status.busy": "2022-01-17T15:17:01.714479Z",
     "iopub.status.idle": "2022-01-17T15:17:03.140846Z",
     "shell.execute_reply": "2022-01-17T15:17:03.140081Z",
     "shell.execute_reply.started": "2022-01-17T15:06:12.708967Z"
    },
    "papermill": {
     "duration": 1.447851,
     "end_time": "2022-01-17T15:17:03.141016",
     "exception": false,
     "start_time": "2022-01-17T15:17:01.693165",
     "status": "completed"
    },
    "tags": []
   },
   "outputs": [],
   "source": [
    "import pandas as pd\n",
    "\n",
    "import seaborn as sns\n",
    "import matplotlib.pyplot as plt\n",
    "plt.style.use('seaborn')\n",
    "\n",
    "import warnings\n",
    "warnings.filterwarnings('ignore')"
   ]
  },
  {
   "cell_type": "markdown",
   "id": "38b00f35",
   "metadata": {
    "papermill": {
     "duration": 0.014929,
     "end_time": "2022-01-17T15:17:03.172751",
     "exception": false,
     "start_time": "2022-01-17T15:17:03.157822",
     "status": "completed"
    },
    "tags": []
   },
   "source": [
    "# Import data"
   ]
  },
  {
   "cell_type": "code",
   "execution_count": 2,
   "id": "8c3f0d2b",
   "metadata": {
    "execution": {
     "iopub.execute_input": "2022-01-17T15:17:03.209033Z",
     "iopub.status.busy": "2022-01-17T15:17:03.208281Z",
     "iopub.status.idle": "2022-01-17T15:17:03.284035Z",
     "shell.execute_reply": "2022-01-17T15:17:03.284570Z",
     "shell.execute_reply.started": "2022-01-17T15:06:13.660329Z"
    },
    "papermill": {
     "duration": 0.09671,
     "end_time": "2022-01-17T15:17:03.284761",
     "exception": false,
     "start_time": "2022-01-17T15:17:03.188051",
     "status": "completed"
    },
    "tags": []
   },
   "outputs": [],
   "source": [
    "basket = pd.read_csv('../input/ecommerce-sales-dataset/basket_details.csv', parse_dates=['basket_date'])\n",
    "customer = pd.read_csv('../input/ecommerce-sales-dataset/customer_details.csv')"
   ]
  },
  {
   "cell_type": "markdown",
   "id": "7909c95a",
   "metadata": {
    "papermill": {
     "duration": 0.014905,
     "end_time": "2022-01-17T15:17:03.315333",
     "exception": false,
     "start_time": "2022-01-17T15:17:03.300428",
     "status": "completed"
    },
    "tags": []
   },
   "source": [
    "# EDA"
   ]
  },
  {
   "cell_type": "markdown",
   "id": "059ac46f",
   "metadata": {
    "papermill": {
     "duration": 0.014799,
     "end_time": "2022-01-17T15:17:03.345257",
     "exception": false,
     "start_time": "2022-01-17T15:17:03.330458",
     "status": "completed"
    },
    "tags": []
   },
   "source": [
    "## Basket_details"
   ]
  },
  {
   "cell_type": "code",
   "execution_count": 3,
   "id": "aec5ec0f",
   "metadata": {
    "execution": {
     "iopub.execute_input": "2022-01-17T15:17:03.383768Z",
     "iopub.status.busy": "2022-01-17T15:17:03.383060Z",
     "iopub.status.idle": "2022-01-17T15:17:03.395234Z",
     "shell.execute_reply": "2022-01-17T15:17:03.395774Z",
     "shell.execute_reply.started": "2022-01-17T15:06:13.730657Z"
    },
    "papermill": {
     "duration": 0.035389,
     "end_time": "2022-01-17T15:17:03.395942",
     "exception": false,
     "start_time": "2022-01-17T15:17:03.360553",
     "status": "completed"
    },
    "tags": []
   },
   "outputs": [
    {
     "data": {
      "text/html": [
       "<div>\n",
       "<style scoped>\n",
       "    .dataframe tbody tr th:only-of-type {\n",
       "        vertical-align: middle;\n",
       "    }\n",
       "\n",
       "    .dataframe tbody tr th {\n",
       "        vertical-align: top;\n",
       "    }\n",
       "\n",
       "    .dataframe thead th {\n",
       "        text-align: right;\n",
       "    }\n",
       "</style>\n",
       "<table border=\"1\" class=\"dataframe\">\n",
       "  <thead>\n",
       "    <tr style=\"text-align: right;\">\n",
       "      <th></th>\n",
       "      <th>customer_id</th>\n",
       "      <th>product_id</th>\n",
       "      <th>basket_date</th>\n",
       "      <th>basket_count</th>\n",
       "    </tr>\n",
       "  </thead>\n",
       "  <tbody>\n",
       "    <tr>\n",
       "      <th>0</th>\n",
       "      <td>42366585</td>\n",
       "      <td>41475073</td>\n",
       "      <td>2019-06-19</td>\n",
       "      <td>2</td>\n",
       "    </tr>\n",
       "    <tr>\n",
       "      <th>1</th>\n",
       "      <td>35956841</td>\n",
       "      <td>43279538</td>\n",
       "      <td>2019-06-19</td>\n",
       "      <td>2</td>\n",
       "    </tr>\n",
       "    <tr>\n",
       "      <th>2</th>\n",
       "      <td>26139578</td>\n",
       "      <td>31715598</td>\n",
       "      <td>2019-06-19</td>\n",
       "      <td>3</td>\n",
       "    </tr>\n",
       "    <tr>\n",
       "      <th>3</th>\n",
       "      <td>3262253</td>\n",
       "      <td>47880260</td>\n",
       "      <td>2019-06-19</td>\n",
       "      <td>2</td>\n",
       "    </tr>\n",
       "    <tr>\n",
       "      <th>4</th>\n",
       "      <td>20056678</td>\n",
       "      <td>44747002</td>\n",
       "      <td>2019-06-19</td>\n",
       "      <td>2</td>\n",
       "    </tr>\n",
       "  </tbody>\n",
       "</table>\n",
       "</div>"
      ],
      "text/plain": [
       "   customer_id  product_id basket_date  basket_count\n",
       "0     42366585    41475073  2019-06-19             2\n",
       "1     35956841    43279538  2019-06-19             2\n",
       "2     26139578    31715598  2019-06-19             3\n",
       "3      3262253    47880260  2019-06-19             2\n",
       "4     20056678    44747002  2019-06-19             2"
      ]
     },
     "execution_count": 3,
     "metadata": {},
     "output_type": "execute_result"
    }
   ],
   "source": [
    "basket.head()"
   ]
  },
  {
   "cell_type": "code",
   "execution_count": 4,
   "id": "b6fc3822",
   "metadata": {
    "execution": {
     "iopub.execute_input": "2022-01-17T15:17:03.431575Z",
     "iopub.status.busy": "2022-01-17T15:17:03.430963Z",
     "iopub.status.idle": "2022-01-17T15:17:03.448809Z",
     "shell.execute_reply": "2022-01-17T15:17:03.449640Z",
     "shell.execute_reply.started": "2022-01-17T15:06:13.747921Z"
    },
    "papermill": {
     "duration": 0.037136,
     "end_time": "2022-01-17T15:17:03.449867",
     "exception": false,
     "start_time": "2022-01-17T15:17:03.412731",
     "status": "completed"
    },
    "tags": []
   },
   "outputs": [
    {
     "name": "stdout",
     "output_type": "stream",
     "text": [
      "<class 'pandas.core.frame.DataFrame'>\n",
      "RangeIndex: 15000 entries, 0 to 14999\n",
      "Data columns (total 4 columns):\n",
      " #   Column        Non-Null Count  Dtype         \n",
      "---  ------        --------------  -----         \n",
      " 0   customer_id   15000 non-null  int64         \n",
      " 1   product_id    15000 non-null  int64         \n",
      " 2   basket_date   15000 non-null  datetime64[ns]\n",
      " 3   basket_count  15000 non-null  int64         \n",
      "dtypes: datetime64[ns](1), int64(3)\n",
      "memory usage: 468.9 KB\n"
     ]
    }
   ],
   "source": [
    "basket.info()"
   ]
  },
  {
   "cell_type": "code",
   "execution_count": 5,
   "id": "133e195a",
   "metadata": {
    "execution": {
     "iopub.execute_input": "2022-01-17T15:17:03.486209Z",
     "iopub.status.busy": "2022-01-17T15:17:03.485594Z",
     "iopub.status.idle": "2022-01-17T15:17:03.508617Z",
     "shell.execute_reply": "2022-01-17T15:17:03.509163Z",
     "shell.execute_reply.started": "2022-01-17T15:06:13.765349Z"
    },
    "papermill": {
     "duration": 0.042647,
     "end_time": "2022-01-17T15:17:03.509370",
     "exception": false,
     "start_time": "2022-01-17T15:17:03.466723",
     "status": "completed"
    },
    "tags": []
   },
   "outputs": [
    {
     "data": {
      "text/html": [
       "<div>\n",
       "<style scoped>\n",
       "    .dataframe tbody tr th:only-of-type {\n",
       "        vertical-align: middle;\n",
       "    }\n",
       "\n",
       "    .dataframe tbody tr th {\n",
       "        vertical-align: top;\n",
       "    }\n",
       "\n",
       "    .dataframe thead th {\n",
       "        text-align: right;\n",
       "    }\n",
       "</style>\n",
       "<table border=\"1\" class=\"dataframe\">\n",
       "  <thead>\n",
       "    <tr style=\"text-align: right;\">\n",
       "      <th></th>\n",
       "      <th>customer_id</th>\n",
       "      <th>product_id</th>\n",
       "      <th>basket_count</th>\n",
       "    </tr>\n",
       "  </thead>\n",
       "  <tbody>\n",
       "    <tr>\n",
       "      <th>count</th>\n",
       "      <td>1.500000e+04</td>\n",
       "      <td>1.500000e+04</td>\n",
       "      <td>15000.000000</td>\n",
       "    </tr>\n",
       "    <tr>\n",
       "      <th>mean</th>\n",
       "      <td>1.808567e+07</td>\n",
       "      <td>3.269771e+07</td>\n",
       "      <td>2.153733</td>\n",
       "    </tr>\n",
       "    <tr>\n",
       "      <th>std</th>\n",
       "      <td>1.233000e+07</td>\n",
       "      <td>1.629455e+07</td>\n",
       "      <td>0.517929</td>\n",
       "    </tr>\n",
       "    <tr>\n",
       "      <th>min</th>\n",
       "      <td>4.784000e+03</td>\n",
       "      <td>4.939000e+04</td>\n",
       "      <td>2.000000</td>\n",
       "    </tr>\n",
       "    <tr>\n",
       "      <th>25%</th>\n",
       "      <td>8.659327e+06</td>\n",
       "      <td>3.137412e+07</td>\n",
       "      <td>2.000000</td>\n",
       "    </tr>\n",
       "    <tr>\n",
       "      <th>50%</th>\n",
       "      <td>1.520775e+07</td>\n",
       "      <td>3.694759e+07</td>\n",
       "      <td>2.000000</td>\n",
       "    </tr>\n",
       "    <tr>\n",
       "      <th>75%</th>\n",
       "      <td>2.663904e+07</td>\n",
       "      <td>4.502408e+07</td>\n",
       "      <td>2.000000</td>\n",
       "    </tr>\n",
       "    <tr>\n",
       "      <th>max</th>\n",
       "      <td>4.460824e+07</td>\n",
       "      <td>5.579097e+07</td>\n",
       "      <td>10.000000</td>\n",
       "    </tr>\n",
       "  </tbody>\n",
       "</table>\n",
       "</div>"
      ],
      "text/plain": [
       "        customer_id    product_id  basket_count\n",
       "count  1.500000e+04  1.500000e+04  15000.000000\n",
       "mean   1.808567e+07  3.269771e+07      2.153733\n",
       "std    1.233000e+07  1.629455e+07      0.517929\n",
       "min    4.784000e+03  4.939000e+04      2.000000\n",
       "25%    8.659327e+06  3.137412e+07      2.000000\n",
       "50%    1.520775e+07  3.694759e+07      2.000000\n",
       "75%    2.663904e+07  4.502408e+07      2.000000\n",
       "max    4.460824e+07  5.579097e+07     10.000000"
      ]
     },
     "execution_count": 5,
     "metadata": {},
     "output_type": "execute_result"
    }
   ],
   "source": [
    "basket.describe()"
   ]
  },
  {
   "cell_type": "markdown",
   "id": "11f4de6d",
   "metadata": {
    "papermill": {
     "duration": 0.016648,
     "end_time": "2022-01-17T15:17:03.542878",
     "exception": false,
     "start_time": "2022-01-17T15:17:03.526230",
     "status": "completed"
    },
    "tags": []
   },
   "source": [
    "- There's nothing missing value in basket\n",
    "- basket_date type = datetime"
   ]
  },
  {
   "cell_type": "markdown",
   "id": "9e5ffec2",
   "metadata": {
    "papermill": {
     "duration": 0.016728,
     "end_time": "2022-01-17T15:17:03.576570",
     "exception": false,
     "start_time": "2022-01-17T15:17:03.559842",
     "status": "completed"
    },
    "tags": []
   },
   "source": [
    "## Customer_details"
   ]
  },
  {
   "cell_type": "code",
   "execution_count": 6,
   "id": "ea999058",
   "metadata": {
    "execution": {
     "iopub.execute_input": "2022-01-17T15:17:03.614577Z",
     "iopub.status.busy": "2022-01-17T15:17:03.613612Z",
     "iopub.status.idle": "2022-01-17T15:17:03.624633Z",
     "shell.execute_reply": "2022-01-17T15:17:03.625223Z",
     "shell.execute_reply.started": "2022-01-17T15:06:13.789457Z"
    },
    "papermill": {
     "duration": 0.031902,
     "end_time": "2022-01-17T15:17:03.625412",
     "exception": false,
     "start_time": "2022-01-17T15:17:03.593510",
     "status": "completed"
    },
    "tags": []
   },
   "outputs": [
    {
     "data": {
      "text/html": [
       "<div>\n",
       "<style scoped>\n",
       "    .dataframe tbody tr th:only-of-type {\n",
       "        vertical-align: middle;\n",
       "    }\n",
       "\n",
       "    .dataframe tbody tr th {\n",
       "        vertical-align: top;\n",
       "    }\n",
       "\n",
       "    .dataframe thead th {\n",
       "        text-align: right;\n",
       "    }\n",
       "</style>\n",
       "<table border=\"1\" class=\"dataframe\">\n",
       "  <thead>\n",
       "    <tr style=\"text-align: right;\">\n",
       "      <th></th>\n",
       "      <th>customer_id</th>\n",
       "      <th>sex</th>\n",
       "      <th>customer_age</th>\n",
       "      <th>tenure</th>\n",
       "    </tr>\n",
       "  </thead>\n",
       "  <tbody>\n",
       "    <tr>\n",
       "      <th>0</th>\n",
       "      <td>9798859</td>\n",
       "      <td>Male</td>\n",
       "      <td>44.0</td>\n",
       "      <td>93</td>\n",
       "    </tr>\n",
       "    <tr>\n",
       "      <th>1</th>\n",
       "      <td>11413563</td>\n",
       "      <td>Male</td>\n",
       "      <td>36.0</td>\n",
       "      <td>65</td>\n",
       "    </tr>\n",
       "    <tr>\n",
       "      <th>2</th>\n",
       "      <td>818195</td>\n",
       "      <td>Male</td>\n",
       "      <td>35.0</td>\n",
       "      <td>129</td>\n",
       "    </tr>\n",
       "    <tr>\n",
       "      <th>3</th>\n",
       "      <td>12049009</td>\n",
       "      <td>Male</td>\n",
       "      <td>33.0</td>\n",
       "      <td>58</td>\n",
       "    </tr>\n",
       "    <tr>\n",
       "      <th>4</th>\n",
       "      <td>10083045</td>\n",
       "      <td>Male</td>\n",
       "      <td>42.0</td>\n",
       "      <td>88</td>\n",
       "    </tr>\n",
       "  </tbody>\n",
       "</table>\n",
       "</div>"
      ],
      "text/plain": [
       "   customer_id   sex  customer_age  tenure\n",
       "0      9798859  Male          44.0      93\n",
       "1     11413563  Male          36.0      65\n",
       "2       818195  Male          35.0     129\n",
       "3     12049009  Male          33.0      58\n",
       "4     10083045  Male          42.0      88"
      ]
     },
     "execution_count": 6,
     "metadata": {},
     "output_type": "execute_result"
    }
   ],
   "source": [
    "customer.head()"
   ]
  },
  {
   "cell_type": "code",
   "execution_count": 7,
   "id": "59f29863",
   "metadata": {
    "execution": {
     "iopub.execute_input": "2022-01-17T15:17:03.663232Z",
     "iopub.status.busy": "2022-01-17T15:17:03.662260Z",
     "iopub.status.idle": "2022-01-17T15:17:03.676402Z",
     "shell.execute_reply": "2022-01-17T15:17:03.676930Z",
     "shell.execute_reply.started": "2022-01-17T15:06:13.801425Z"
    },
    "papermill": {
     "duration": 0.034738,
     "end_time": "2022-01-17T15:17:03.677105",
     "exception": false,
     "start_time": "2022-01-17T15:17:03.642367",
     "status": "completed"
    },
    "tags": []
   },
   "outputs": [
    {
     "name": "stdout",
     "output_type": "stream",
     "text": [
      "<class 'pandas.core.frame.DataFrame'>\n",
      "RangeIndex: 20000 entries, 0 to 19999\n",
      "Data columns (total 4 columns):\n",
      " #   Column        Non-Null Count  Dtype  \n",
      "---  ------        --------------  -----  \n",
      " 0   customer_id   20000 non-null  int64  \n",
      " 1   sex           20000 non-null  object \n",
      " 2   customer_age  20000 non-null  float64\n",
      " 3   tenure        20000 non-null  int64  \n",
      "dtypes: float64(1), int64(2), object(1)\n",
      "memory usage: 625.1+ KB\n"
     ]
    }
   ],
   "source": [
    "customer.info()"
   ]
  },
  {
   "cell_type": "code",
   "execution_count": 8,
   "id": "a8f369a6",
   "metadata": {
    "execution": {
     "iopub.execute_input": "2022-01-17T15:17:03.715960Z",
     "iopub.status.busy": "2022-01-17T15:17:03.714974Z",
     "iopub.status.idle": "2022-01-17T15:17:03.734810Z",
     "shell.execute_reply": "2022-01-17T15:17:03.735384Z",
     "shell.execute_reply.started": "2022-01-17T15:06:13.816319Z"
    },
    "papermill": {
     "duration": 0.04111,
     "end_time": "2022-01-17T15:17:03.735553",
     "exception": false,
     "start_time": "2022-01-17T15:17:03.694443",
     "status": "completed"
    },
    "tags": []
   },
   "outputs": [
    {
     "data": {
      "text/html": [
       "<div>\n",
       "<style scoped>\n",
       "    .dataframe tbody tr th:only-of-type {\n",
       "        vertical-align: middle;\n",
       "    }\n",
       "\n",
       "    .dataframe tbody tr th {\n",
       "        vertical-align: top;\n",
       "    }\n",
       "\n",
       "    .dataframe thead th {\n",
       "        text-align: right;\n",
       "    }\n",
       "</style>\n",
       "<table border=\"1\" class=\"dataframe\">\n",
       "  <thead>\n",
       "    <tr style=\"text-align: right;\">\n",
       "      <th></th>\n",
       "      <th>customer_id</th>\n",
       "      <th>customer_age</th>\n",
       "      <th>tenure</th>\n",
       "    </tr>\n",
       "  </thead>\n",
       "  <tbody>\n",
       "    <tr>\n",
       "      <th>count</th>\n",
       "      <td>2.000000e+04</td>\n",
       "      <td>20000.000000</td>\n",
       "      <td>20000.000000</td>\n",
       "    </tr>\n",
       "    <tr>\n",
       "      <th>mean</th>\n",
       "      <td>1.760040e+07</td>\n",
       "      <td>262.222550</td>\n",
       "      <td>44.396800</td>\n",
       "    </tr>\n",
       "    <tr>\n",
       "      <th>std</th>\n",
       "      <td>8.679505e+06</td>\n",
       "      <td>604.321589</td>\n",
       "      <td>31.998376</td>\n",
       "    </tr>\n",
       "    <tr>\n",
       "      <th>min</th>\n",
       "      <td>2.093000e+03</td>\n",
       "      <td>-34.000000</td>\n",
       "      <td>4.000000</td>\n",
       "    </tr>\n",
       "    <tr>\n",
       "      <th>25%</th>\n",
       "      <td>1.188115e+07</td>\n",
       "      <td>29.000000</td>\n",
       "      <td>21.000000</td>\n",
       "    </tr>\n",
       "    <tr>\n",
       "      <th>50%</th>\n",
       "      <td>1.560912e+07</td>\n",
       "      <td>38.000000</td>\n",
       "      <td>35.000000</td>\n",
       "    </tr>\n",
       "    <tr>\n",
       "      <th>75%</th>\n",
       "      <td>2.228484e+07</td>\n",
       "      <td>123.000000</td>\n",
       "      <td>60.000000</td>\n",
       "    </tr>\n",
       "    <tr>\n",
       "      <th>max</th>\n",
       "      <td>4.462566e+07</td>\n",
       "      <td>2022.000000</td>\n",
       "      <td>133.000000</td>\n",
       "    </tr>\n",
       "  </tbody>\n",
       "</table>\n",
       "</div>"
      ],
      "text/plain": [
       "        customer_id  customer_age        tenure\n",
       "count  2.000000e+04  20000.000000  20000.000000\n",
       "mean   1.760040e+07    262.222550     44.396800\n",
       "std    8.679505e+06    604.321589     31.998376\n",
       "min    2.093000e+03    -34.000000      4.000000\n",
       "25%    1.188115e+07     29.000000     21.000000\n",
       "50%    1.560912e+07     38.000000     35.000000\n",
       "75%    2.228484e+07    123.000000     60.000000\n",
       "max    4.462566e+07   2022.000000    133.000000"
      ]
     },
     "execution_count": 8,
     "metadata": {},
     "output_type": "execute_result"
    }
   ],
   "source": [
    "customer.describe()"
   ]
  },
  {
   "cell_type": "markdown",
   "id": "6c72e1f5",
   "metadata": {
    "papermill": {
     "duration": 0.017476,
     "end_time": "2022-01-17T15:17:03.770735",
     "exception": false,
     "start_time": "2022-01-17T15:17:03.753259",
     "status": "completed"
    },
    "tags": []
   },
   "source": [
    "- There's nothing missing value in customer\n",
    "- There is an outlier in the age column of customer data."
   ]
  },
  {
   "cell_type": "code",
   "execution_count": 9,
   "id": "1c5b0e9a",
   "metadata": {
    "execution": {
     "iopub.execute_input": "2022-01-17T15:17:03.810710Z",
     "iopub.status.busy": "2022-01-17T15:17:03.809666Z",
     "iopub.status.idle": "2022-01-17T15:17:03.816541Z",
     "shell.execute_reply": "2022-01-17T15:17:03.817158Z",
     "shell.execute_reply.started": "2022-01-17T15:06:13.835547Z"
    },
    "papermill": {
     "duration": 0.028759,
     "end_time": "2022-01-17T15:17:03.817351",
     "exception": false,
     "start_time": "2022-01-17T15:17:03.788592",
     "status": "completed"
    },
    "tags": []
   },
   "outputs": [
    {
     "data": {
      "text/plain": [
       "20000"
      ]
     },
     "execution_count": 9,
     "metadata": {},
     "output_type": "execute_result"
    }
   ],
   "source": [
    "len(customer['customer_id'].unique())"
   ]
  },
  {
   "cell_type": "code",
   "execution_count": 10,
   "id": "454a69a9",
   "metadata": {
    "execution": {
     "iopub.execute_input": "2022-01-17T15:17:03.860582Z",
     "iopub.status.busy": "2022-01-17T15:17:03.859888Z",
     "iopub.status.idle": "2022-01-17T15:17:03.866510Z",
     "shell.execute_reply": "2022-01-17T15:17:03.866978Z",
     "shell.execute_reply.started": "2022-01-17T15:06:13.843996Z"
    },
    "papermill": {
     "duration": 0.0312,
     "end_time": "2022-01-17T15:17:03.867154",
     "exception": false,
     "start_time": "2022-01-17T15:17:03.835954",
     "status": "completed"
    },
    "tags": []
   },
   "outputs": [
    {
     "data": {
      "text/plain": [
       "customer_age\n",
       "-34.0         1\n",
       " 3.0          2\n",
       " 4.0          1\n",
       " 5.0        710\n",
       " 6.0          1\n",
       "           ... \n",
       " 127.0        1\n",
       " 130.0        1\n",
       " 139.0        1\n",
       " 149.0        1\n",
       " 2022.0    2102\n",
       "Name: customer_id, Length: 93, dtype: int64"
      ]
     },
     "execution_count": 10,
     "metadata": {},
     "output_type": "execute_result"
    }
   ],
   "source": [
    "customer.groupby('customer_age')['customer_id'].count()"
   ]
  },
  {
   "cell_type": "markdown",
   "id": "ab35a869",
   "metadata": {
    "papermill": {
     "duration": 0.018162,
     "end_time": "2022-01-17T15:17:03.904216",
     "exception": false,
     "start_time": "2022-01-17T15:17:03.886054",
     "status": "completed"
    },
    "tags": []
   },
   "source": [
    "- Remove outliers after merging basket dataframe and customer dataframe"
   ]
  },
  {
   "cell_type": "markdown",
   "id": "ba15acb4",
   "metadata": {
    "papermill": {
     "duration": 0.017976,
     "end_time": "2022-01-17T15:17:03.940887",
     "exception": false,
     "start_time": "2022-01-17T15:17:03.922911",
     "status": "completed"
    },
    "tags": []
   },
   "source": [
    "# Check the intersection of the basket dataframe and the customer dataframe"
   ]
  },
  {
   "cell_type": "code",
   "execution_count": 11,
   "id": "c3f4aa04",
   "metadata": {
    "execution": {
     "iopub.execute_input": "2022-01-17T15:17:03.985767Z",
     "iopub.status.busy": "2022-01-17T15:17:03.984718Z",
     "iopub.status.idle": "2022-01-17T15:17:04.005803Z",
     "shell.execute_reply": "2022-01-17T15:17:04.006347Z",
     "shell.execute_reply.started": "2022-01-17T15:06:13.856344Z"
    },
    "papermill": {
     "duration": 0.045775,
     "end_time": "2022-01-17T15:17:04.006517",
     "exception": false,
     "start_time": "2022-01-17T15:17:03.960742",
     "status": "completed"
    },
    "tags": []
   },
   "outputs": [],
   "source": [
    "merge_df = basket.merge(customer, on='customer_id')"
   ]
  },
  {
   "cell_type": "code",
   "execution_count": 12,
   "id": "6bb1bbdc",
   "metadata": {
    "execution": {
     "iopub.execute_input": "2022-01-17T15:17:04.049427Z",
     "iopub.status.busy": "2022-01-17T15:17:04.048380Z",
     "iopub.status.idle": "2022-01-17T15:17:04.066057Z",
     "shell.execute_reply": "2022-01-17T15:17:04.066541Z",
     "shell.execute_reply.started": "2022-01-17T15:06:13.877733Z"
    },
    "papermill": {
     "duration": 0.040662,
     "end_time": "2022-01-17T15:17:04.066723",
     "exception": false,
     "start_time": "2022-01-17T15:17:04.026061",
     "status": "completed"
    },
    "tags": []
   },
   "outputs": [
    {
     "data": {
      "text/html": [
       "<div>\n",
       "<style scoped>\n",
       "    .dataframe tbody tr th:only-of-type {\n",
       "        vertical-align: middle;\n",
       "    }\n",
       "\n",
       "    .dataframe tbody tr th {\n",
       "        vertical-align: top;\n",
       "    }\n",
       "\n",
       "    .dataframe thead th {\n",
       "        text-align: right;\n",
       "    }\n",
       "</style>\n",
       "<table border=\"1\" class=\"dataframe\">\n",
       "  <thead>\n",
       "    <tr style=\"text-align: right;\">\n",
       "      <th></th>\n",
       "      <th>customer_id</th>\n",
       "      <th>product_id</th>\n",
       "      <th>basket_date</th>\n",
       "      <th>basket_count</th>\n",
       "      <th>sex</th>\n",
       "      <th>customer_age</th>\n",
       "      <th>tenure</th>\n",
       "    </tr>\n",
       "  </thead>\n",
       "  <tbody>\n",
       "    <tr>\n",
       "      <th>0</th>\n",
       "      <td>4897641</td>\n",
       "      <td>34525548</td>\n",
       "      <td>2019-06-15</td>\n",
       "      <td>2</td>\n",
       "      <td>Male</td>\n",
       "      <td>40.0</td>\n",
       "      <td>114</td>\n",
       "    </tr>\n",
       "    <tr>\n",
       "      <th>1</th>\n",
       "      <td>11623549</td>\n",
       "      <td>50394038</td>\n",
       "      <td>2019-06-18</td>\n",
       "      <td>2</td>\n",
       "      <td>Male</td>\n",
       "      <td>30.0</td>\n",
       "      <td>63</td>\n",
       "    </tr>\n",
       "    <tr>\n",
       "      <th>2</th>\n",
       "      <td>11665521</td>\n",
       "      <td>41476812</td>\n",
       "      <td>2019-06-15</td>\n",
       "      <td>2</td>\n",
       "      <td>Female</td>\n",
       "      <td>51.0</td>\n",
       "      <td>62</td>\n",
       "    </tr>\n",
       "    <tr>\n",
       "      <th>3</th>\n",
       "      <td>4193819</td>\n",
       "      <td>6455162</td>\n",
       "      <td>2019-06-15</td>\n",
       "      <td>2</td>\n",
       "      <td>Male</td>\n",
       "      <td>42.0</td>\n",
       "      <td>117</td>\n",
       "    </tr>\n",
       "    <tr>\n",
       "      <th>4</th>\n",
       "      <td>1030589</td>\n",
       "      <td>38578121</td>\n",
       "      <td>2019-05-26</td>\n",
       "      <td>2</td>\n",
       "      <td>Male</td>\n",
       "      <td>45.0</td>\n",
       "      <td>127</td>\n",
       "    </tr>\n",
       "    <tr>\n",
       "      <th>...</th>\n",
       "      <td>...</td>\n",
       "      <td>...</td>\n",
       "      <td>...</td>\n",
       "      <td>...</td>\n",
       "      <td>...</td>\n",
       "      <td>...</td>\n",
       "      <td>...</td>\n",
       "    </tr>\n",
       "    <tr>\n",
       "      <th>67</th>\n",
       "      <td>12574807</td>\n",
       "      <td>32056122</td>\n",
       "      <td>2019-05-25</td>\n",
       "      <td>2</td>\n",
       "      <td>Male</td>\n",
       "      <td>33.0</td>\n",
       "      <td>52</td>\n",
       "    </tr>\n",
       "    <tr>\n",
       "      <th>68</th>\n",
       "      <td>15192667</td>\n",
       "      <td>31272089</td>\n",
       "      <td>2019-05-24</td>\n",
       "      <td>2</td>\n",
       "      <td>Male</td>\n",
       "      <td>46.0</td>\n",
       "      <td>37</td>\n",
       "    </tr>\n",
       "    <tr>\n",
       "      <th>69</th>\n",
       "      <td>14248059</td>\n",
       "      <td>48790153</td>\n",
       "      <td>2019-05-21</td>\n",
       "      <td>2</td>\n",
       "      <td>Male</td>\n",
       "      <td>29.0</td>\n",
       "      <td>41</td>\n",
       "    </tr>\n",
       "    <tr>\n",
       "      <th>70</th>\n",
       "      <td>10629563</td>\n",
       "      <td>47864502</td>\n",
       "      <td>2019-06-01</td>\n",
       "      <td>2</td>\n",
       "      <td>Male</td>\n",
       "      <td>29.0</td>\n",
       "      <td>76</td>\n",
       "    </tr>\n",
       "    <tr>\n",
       "      <th>71</th>\n",
       "      <td>11737579</td>\n",
       "      <td>46626448</td>\n",
       "      <td>2019-05-27</td>\n",
       "      <td>2</td>\n",
       "      <td>Male</td>\n",
       "      <td>35.0</td>\n",
       "      <td>61</td>\n",
       "    </tr>\n",
       "  </tbody>\n",
       "</table>\n",
       "<p>72 rows × 7 columns</p>\n",
       "</div>"
      ],
      "text/plain": [
       "    customer_id  product_id basket_date  basket_count     sex  customer_age  \\\n",
       "0       4897641    34525548  2019-06-15             2    Male          40.0   \n",
       "1      11623549    50394038  2019-06-18             2    Male          30.0   \n",
       "2      11665521    41476812  2019-06-15             2  Female          51.0   \n",
       "3       4193819     6455162  2019-06-15             2    Male          42.0   \n",
       "4       1030589    38578121  2019-05-26             2    Male          45.0   \n",
       "..          ...         ...         ...           ...     ...           ...   \n",
       "67     12574807    32056122  2019-05-25             2    Male          33.0   \n",
       "68     15192667    31272089  2019-05-24             2    Male          46.0   \n",
       "69     14248059    48790153  2019-05-21             2    Male          29.0   \n",
       "70     10629563    47864502  2019-06-01             2    Male          29.0   \n",
       "71     11737579    46626448  2019-05-27             2    Male          35.0   \n",
       "\n",
       "    tenure  \n",
       "0      114  \n",
       "1       63  \n",
       "2       62  \n",
       "3      117  \n",
       "4      127  \n",
       "..     ...  \n",
       "67      52  \n",
       "68      37  \n",
       "69      41  \n",
       "70      76  \n",
       "71      61  \n",
       "\n",
       "[72 rows x 7 columns]"
      ]
     },
     "execution_count": 12,
     "metadata": {},
     "output_type": "execute_result"
    }
   ],
   "source": [
    "merge_df"
   ]
  },
  {
   "cell_type": "markdown",
   "id": "d979b78c",
   "metadata": {
    "papermill": {
     "duration": 0.019158,
     "end_time": "2022-01-17T15:17:04.105175",
     "exception": false,
     "start_time": "2022-01-17T15:17:04.086017",
     "status": "completed"
    },
    "tags": []
   },
   "source": [
    "- The number of intersections between customer dataframe and basket dataframe is only 72"
   ]
  },
  {
   "cell_type": "markdown",
   "id": "ea925156",
   "metadata": {
    "papermill": {
     "duration": 0.018757,
     "end_time": "2022-01-17T15:17:04.143426",
     "exception": false,
     "start_time": "2022-01-17T15:17:04.124669",
     "status": "completed"
    },
    "tags": []
   },
   "source": [
    "# Conclusion\n",
    "- I carefully think that it will be difficult to analyze consumption according to customer characteristics.\n",
    "- So I can't know my customers."
   ]
  }
 ],
 "metadata": {
  "kernelspec": {
   "display_name": "Python 3",
   "language": "python",
   "name": "python3"
  },
  "language_info": {
   "codemirror_mode": {
    "name": "ipython",
    "version": 3
   },
   "file_extension": ".py",
   "mimetype": "text/x-python",
   "name": "python",
   "nbconvert_exporter": "python",
   "pygments_lexer": "ipython3",
   "version": "3.7.12"
  },
  "papermill": {
   "default_parameters": {},
   "duration": 13.605498,
   "end_time": "2022-01-17T15:17:04.872630",
   "environment_variables": {},
   "exception": null,
   "input_path": "__notebook__.ipynb",
   "output_path": "__notebook__.ipynb",
   "parameters": {},
   "start_time": "2022-01-17T15:16:51.267132",
   "version": "2.3.3"
  }
 },
 "nbformat": 4,
 "nbformat_minor": 5
}
