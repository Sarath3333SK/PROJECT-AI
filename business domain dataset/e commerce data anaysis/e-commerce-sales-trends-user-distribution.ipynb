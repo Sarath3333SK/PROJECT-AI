{
 "cells": [
  {
   "cell_type": "code",
   "execution_count": 1,
   "id": "93996788",
   "metadata": {
    "execution": {
     "iopub.execute_input": "2022-02-18T10:30:24.005714Z",
     "iopub.status.busy": "2022-02-18T10:30:24.004883Z",
     "iopub.status.idle": "2022-02-18T10:30:24.995401Z",
     "shell.execute_reply": "2022-02-18T10:30:24.994776Z"
    },
    "papermill": {
     "duration": 1.027514,
     "end_time": "2022-02-18T10:30:24.995550",
     "exception": false,
     "start_time": "2022-02-18T10:30:23.968036",
     "status": "completed"
    },
    "tags": []
   },
   "outputs": [],
   "source": [
    "import pandas as pd\n",
    "import numpy as np \n",
    "import matplotlib.pyplot as plt \n",
    "import seaborn as sns\n",
    "import matplotlib.patches as patches"
   ]
  },
  {
   "cell_type": "code",
   "execution_count": 2,
   "id": "b638be87",
   "metadata": {
    "execution": {
     "iopub.execute_input": "2022-02-18T10:30:25.070124Z",
     "iopub.status.busy": "2022-02-18T10:30:25.069634Z",
     "iopub.status.idle": "2022-02-18T10:30:25.131751Z",
     "shell.execute_reply": "2022-02-18T10:30:25.131334Z"
    },
    "papermill": {
     "duration": 0.101138,
     "end_time": "2022-02-18T10:30:25.131855",
     "exception": false,
     "start_time": "2022-02-18T10:30:25.030717",
     "status": "completed"
    },
    "tags": []
   },
   "outputs": [],
   "source": [
    "df_basket = pd.read_csv(\"../input/ecommerce-sales-dataset/basket_details.csv\", parse_dates = [\"basket_date\"])\n",
    "df_details = pd.read_csv(\"../input/ecommerce-sales-dataset/customer_details.csv\")"
   ]
  },
  {
   "cell_type": "markdown",
   "id": "835bc9c7",
   "metadata": {
    "papermill": {
     "duration": 0.033003,
     "end_time": "2022-02-18T10:30:25.198029",
     "exception": false,
     "start_time": "2022-02-18T10:30:25.165026",
     "status": "completed"
    },
    "tags": []
   },
   "source": [
    "##  1a. Overview of Datasets : Basket\n",
    "There are **15,000 rows** of collected data, from **20th May 2019 to 19th June 2019** (~1 month). It records number of transaction by a customer per day. **3,871 unique customers** has made a transaction during this one month period, with the **highest** number of items bought being **10/day** and **average transaction of ~2-3/day**. **13,161 types** of products have been bought during this period."
   ]
  },
  {
   "cell_type": "code",
   "execution_count": 3,
   "id": "6bdf9c38",
   "metadata": {
    "execution": {
     "iopub.execute_input": "2022-02-18T10:30:25.270831Z",
     "iopub.status.busy": "2022-02-18T10:30:25.270349Z",
     "iopub.status.idle": "2022-02-18T10:30:25.279176Z",
     "shell.execute_reply": "2022-02-18T10:30:25.279542Z"
    },
    "papermill": {
     "duration": 0.047769,
     "end_time": "2022-02-18T10:30:25.279658",
     "exception": false,
     "start_time": "2022-02-18T10:30:25.231889",
     "status": "completed"
    },
    "tags": []
   },
   "outputs": [
    {
     "data": {
      "text/html": [
       "<div>\n",
       "<style scoped>\n",
       "    .dataframe tbody tr th:only-of-type {\n",
       "        vertical-align: middle;\n",
       "    }\n",
       "\n",
       "    .dataframe tbody tr th {\n",
       "        vertical-align: top;\n",
       "    }\n",
       "\n",
       "    .dataframe thead th {\n",
       "        text-align: right;\n",
       "    }\n",
       "</style>\n",
       "<table border=\"1\" class=\"dataframe\">\n",
       "  <thead>\n",
       "    <tr style=\"text-align: right;\">\n",
       "      <th></th>\n",
       "      <th>customer_id</th>\n",
       "      <th>product_id</th>\n",
       "      <th>basket_date</th>\n",
       "      <th>basket_count</th>\n",
       "    </tr>\n",
       "  </thead>\n",
       "  <tbody>\n",
       "    <tr>\n",
       "      <th>0</th>\n",
       "      <td>42366585</td>\n",
       "      <td>41475073</td>\n",
       "      <td>2019-06-19</td>\n",
       "      <td>2</td>\n",
       "    </tr>\n",
       "    <tr>\n",
       "      <th>1</th>\n",
       "      <td>35956841</td>\n",
       "      <td>43279538</td>\n",
       "      <td>2019-06-19</td>\n",
       "      <td>2</td>\n",
       "    </tr>\n",
       "    <tr>\n",
       "      <th>2</th>\n",
       "      <td>26139578</td>\n",
       "      <td>31715598</td>\n",
       "      <td>2019-06-19</td>\n",
       "      <td>3</td>\n",
       "    </tr>\n",
       "    <tr>\n",
       "      <th>3</th>\n",
       "      <td>3262253</td>\n",
       "      <td>47880260</td>\n",
       "      <td>2019-06-19</td>\n",
       "      <td>2</td>\n",
       "    </tr>\n",
       "    <tr>\n",
       "      <th>4</th>\n",
       "      <td>20056678</td>\n",
       "      <td>44747002</td>\n",
       "      <td>2019-06-19</td>\n",
       "      <td>2</td>\n",
       "    </tr>\n",
       "  </tbody>\n",
       "</table>\n",
       "</div>"
      ],
      "text/plain": [
       "   customer_id  product_id basket_date  basket_count\n",
       "0     42366585    41475073  2019-06-19             2\n",
       "1     35956841    43279538  2019-06-19             2\n",
       "2     26139578    31715598  2019-06-19             3\n",
       "3      3262253    47880260  2019-06-19             2\n",
       "4     20056678    44747002  2019-06-19             2"
      ]
     },
     "execution_count": 3,
     "metadata": {},
     "output_type": "execute_result"
    }
   ],
   "source": [
    "df_basket.head()"
   ]
  },
  {
   "cell_type": "code",
   "execution_count": 4,
   "id": "e3c3c640",
   "metadata": {
    "execution": {
     "iopub.execute_input": "2022-02-18T10:30:25.348612Z",
     "iopub.status.busy": "2022-02-18T10:30:25.348157Z",
     "iopub.status.idle": "2022-02-18T10:30:25.356725Z",
     "shell.execute_reply": "2022-02-18T10:30:25.356349Z"
    },
    "papermill": {
     "duration": 0.043033,
     "end_time": "2022-02-18T10:30:25.356820",
     "exception": false,
     "start_time": "2022-02-18T10:30:25.313787",
     "status": "completed"
    },
    "tags": []
   },
   "outputs": [
    {
     "data": {
      "text/plain": [
       "Timestamp('2019-05-20 00:00:00')"
      ]
     },
     "execution_count": 4,
     "metadata": {},
     "output_type": "execute_result"
    }
   ],
   "source": [
    "#number of unique customer \n",
    "df_basket.customer_id.nunique()\n",
    "\n",
    "#number of unique products bought \n",
    "df_basket.product_id.nunique()\n",
    "\n",
    "#period in which data is collected \n",
    "df_basket.basket_date.max()\n",
    "df_basket.basket_date.min()"
   ]
  },
  {
   "cell_type": "code",
   "execution_count": 5,
   "id": "b1f92414",
   "metadata": {
    "execution": {
     "iopub.execute_input": "2022-02-18T10:30:25.428240Z",
     "iopub.status.busy": "2022-02-18T10:30:25.427448Z",
     "iopub.status.idle": "2022-02-18T10:30:25.433941Z",
     "shell.execute_reply": "2022-02-18T10:30:25.434400Z"
    },
    "papermill": {
     "duration": 0.043638,
     "end_time": "2022-02-18T10:30:25.434521",
     "exception": false,
     "start_time": "2022-02-18T10:30:25.390883",
     "status": "completed"
    },
    "tags": []
   },
   "outputs": [
    {
     "data": {
      "text/plain": [
       "count    15000.000000\n",
       "mean         2.153733\n",
       "std          0.517929\n",
       "min          2.000000\n",
       "25%          2.000000\n",
       "50%          2.000000\n",
       "75%          2.000000\n",
       "max         10.000000\n",
       "Name: basket_count, dtype: float64"
      ]
     },
     "execution_count": 5,
     "metadata": {},
     "output_type": "execute_result"
    }
   ],
   "source": [
    "#total rows of collected data \n",
    "#average, highest and lowest number of transaction in a day \n",
    "#ensure that there are no null values in the dataset\n",
    "df_basket.basket_count.describe()"
   ]
  },
  {
   "cell_type": "code",
   "execution_count": 6,
   "id": "c0458943",
   "metadata": {
    "execution": {
     "iopub.execute_input": "2022-02-18T10:30:25.506281Z",
     "iopub.status.busy": "2022-02-18T10:30:25.505789Z",
     "iopub.status.idle": "2022-02-18T10:30:25.510879Z",
     "shell.execute_reply": "2022-02-18T10:30:25.511292Z"
    },
    "papermill": {
     "duration": 0.042569,
     "end_time": "2022-02-18T10:30:25.511428",
     "exception": false,
     "start_time": "2022-02-18T10:30:25.468859",
     "status": "completed"
    },
    "tags": []
   },
   "outputs": [
    {
     "data": {
      "text/plain": [
       "customer_id     0\n",
       "product_id      0\n",
       "basket_date     0\n",
       "basket_count    0\n",
       "dtype: int64"
      ]
     },
     "execution_count": 6,
     "metadata": {},
     "output_type": "execute_result"
    }
   ],
   "source": [
    "#ensure that there are no null values in the dataset\n",
    "df_basket.isnull().sum()"
   ]
  },
  {
   "cell_type": "markdown",
   "id": "7f9b0e71",
   "metadata": {
    "papermill": {
     "duration": 0.035324,
     "end_time": "2022-02-18T10:30:25.582619",
     "exception": false,
     "start_time": "2022-02-18T10:30:25.547295",
     "status": "completed"
    },
    "tags": []
   },
   "source": [
    "##  1b. Overview of Datasets : Customer Details\n",
    "\n",
    "20,000 unique customers has been registered under the E-commerce platform. However, there is something wrong as describe() function returns a **average age of 262 and max age of 2022**. There is **1 user with age -34**, **6,702 users with age over 110** and **2102 users with ages 2022**. We are unable to determine the correct age of users at this stage. However, we can reduce the total number of data points by removing/ filtering out these users with incorrect ages. "
   ]
  },
  {
   "cell_type": "code",
   "execution_count": 7,
   "id": "4306852d",
   "metadata": {
    "execution": {
     "iopub.execute_input": "2022-02-18T10:30:25.662731Z",
     "iopub.status.busy": "2022-02-18T10:30:25.662248Z",
     "iopub.status.idle": "2022-02-18T10:30:25.664325Z",
     "shell.execute_reply": "2022-02-18T10:30:25.664699Z"
    },
    "papermill": {
     "duration": 0.046422,
     "end_time": "2022-02-18T10:30:25.664816",
     "exception": false,
     "start_time": "2022-02-18T10:30:25.618394",
     "status": "completed"
    },
    "tags": []
   },
   "outputs": [
    {
     "data": {
      "text/html": [
       "<div>\n",
       "<style scoped>\n",
       "    .dataframe tbody tr th:only-of-type {\n",
       "        vertical-align: middle;\n",
       "    }\n",
       "\n",
       "    .dataframe tbody tr th {\n",
       "        vertical-align: top;\n",
       "    }\n",
       "\n",
       "    .dataframe thead th {\n",
       "        text-align: right;\n",
       "    }\n",
       "</style>\n",
       "<table border=\"1\" class=\"dataframe\">\n",
       "  <thead>\n",
       "    <tr style=\"text-align: right;\">\n",
       "      <th></th>\n",
       "      <th>customer_id</th>\n",
       "      <th>sex</th>\n",
       "      <th>customer_age</th>\n",
       "      <th>tenure</th>\n",
       "    </tr>\n",
       "  </thead>\n",
       "  <tbody>\n",
       "    <tr>\n",
       "      <th>0</th>\n",
       "      <td>9798859</td>\n",
       "      <td>Male</td>\n",
       "      <td>44.0</td>\n",
       "      <td>93</td>\n",
       "    </tr>\n",
       "    <tr>\n",
       "      <th>1</th>\n",
       "      <td>11413563</td>\n",
       "      <td>Male</td>\n",
       "      <td>36.0</td>\n",
       "      <td>65</td>\n",
       "    </tr>\n",
       "    <tr>\n",
       "      <th>2</th>\n",
       "      <td>818195</td>\n",
       "      <td>Male</td>\n",
       "      <td>35.0</td>\n",
       "      <td>129</td>\n",
       "    </tr>\n",
       "    <tr>\n",
       "      <th>3</th>\n",
       "      <td>12049009</td>\n",
       "      <td>Male</td>\n",
       "      <td>33.0</td>\n",
       "      <td>58</td>\n",
       "    </tr>\n",
       "    <tr>\n",
       "      <th>4</th>\n",
       "      <td>10083045</td>\n",
       "      <td>Male</td>\n",
       "      <td>42.0</td>\n",
       "      <td>88</td>\n",
       "    </tr>\n",
       "  </tbody>\n",
       "</table>\n",
       "</div>"
      ],
      "text/plain": [
       "   customer_id   sex  customer_age  tenure\n",
       "0      9798859  Male          44.0      93\n",
       "1     11413563  Male          36.0      65\n",
       "2       818195  Male          35.0     129\n",
       "3     12049009  Male          33.0      58\n",
       "4     10083045  Male          42.0      88"
      ]
     },
     "execution_count": 7,
     "metadata": {},
     "output_type": "execute_result"
    }
   ],
   "source": [
    "df_details.head()"
   ]
  },
  {
   "cell_type": "code",
   "execution_count": 8,
   "id": "10c7d4df",
   "metadata": {
    "execution": {
     "iopub.execute_input": "2022-02-18T10:30:25.739653Z",
     "iopub.status.busy": "2022-02-18T10:30:25.739175Z",
     "iopub.status.idle": "2022-02-18T10:30:25.743196Z",
     "shell.execute_reply": "2022-02-18T10:30:25.743591Z"
    },
    "papermill": {
     "duration": 0.042659,
     "end_time": "2022-02-18T10:30:25.743698",
     "exception": false,
     "start_time": "2022-02-18T10:30:25.701039",
     "status": "completed"
    },
    "tags": []
   },
   "outputs": [
    {
     "data": {
      "text/plain": [
       "20000"
      ]
     },
     "execution_count": 8,
     "metadata": {},
     "output_type": "execute_result"
    }
   ],
   "source": [
    "#number of unique customer registered under ecommerce platform\n",
    "df_details.customer_id.nunique()"
   ]
  },
  {
   "cell_type": "code",
   "execution_count": 9,
   "id": "c2502201",
   "metadata": {
    "execution": {
     "iopub.execute_input": "2022-02-18T10:30:25.819158Z",
     "iopub.status.busy": "2022-02-18T10:30:25.818678Z",
     "iopub.status.idle": "2022-02-18T10:30:25.835241Z",
     "shell.execute_reply": "2022-02-18T10:30:25.835624Z"
    },
    "papermill": {
     "duration": 0.055556,
     "end_time": "2022-02-18T10:30:25.835741",
     "exception": false,
     "start_time": "2022-02-18T10:30:25.780185",
     "status": "completed"
    },
    "tags": []
   },
   "outputs": [
    {
     "data": {
      "text/html": [
       "<div>\n",
       "<style scoped>\n",
       "    .dataframe tbody tr th:only-of-type {\n",
       "        vertical-align: middle;\n",
       "    }\n",
       "\n",
       "    .dataframe tbody tr th {\n",
       "        vertical-align: top;\n",
       "    }\n",
       "\n",
       "    .dataframe thead th {\n",
       "        text-align: right;\n",
       "    }\n",
       "</style>\n",
       "<table border=\"1\" class=\"dataframe\">\n",
       "  <thead>\n",
       "    <tr style=\"text-align: right;\">\n",
       "      <th></th>\n",
       "      <th>customer_id</th>\n",
       "      <th>customer_age</th>\n",
       "      <th>tenure</th>\n",
       "    </tr>\n",
       "  </thead>\n",
       "  <tbody>\n",
       "    <tr>\n",
       "      <th>count</th>\n",
       "      <td>2.000000e+04</td>\n",
       "      <td>20000.000000</td>\n",
       "      <td>20000.000000</td>\n",
       "    </tr>\n",
       "    <tr>\n",
       "      <th>mean</th>\n",
       "      <td>1.760040e+07</td>\n",
       "      <td>262.222550</td>\n",
       "      <td>44.396800</td>\n",
       "    </tr>\n",
       "    <tr>\n",
       "      <th>std</th>\n",
       "      <td>8.679505e+06</td>\n",
       "      <td>604.321589</td>\n",
       "      <td>31.998376</td>\n",
       "    </tr>\n",
       "    <tr>\n",
       "      <th>min</th>\n",
       "      <td>2.093000e+03</td>\n",
       "      <td>-34.000000</td>\n",
       "      <td>4.000000</td>\n",
       "    </tr>\n",
       "    <tr>\n",
       "      <th>25%</th>\n",
       "      <td>1.188115e+07</td>\n",
       "      <td>29.000000</td>\n",
       "      <td>21.000000</td>\n",
       "    </tr>\n",
       "    <tr>\n",
       "      <th>50%</th>\n",
       "      <td>1.560912e+07</td>\n",
       "      <td>38.000000</td>\n",
       "      <td>35.000000</td>\n",
       "    </tr>\n",
       "    <tr>\n",
       "      <th>75%</th>\n",
       "      <td>2.228484e+07</td>\n",
       "      <td>123.000000</td>\n",
       "      <td>60.000000</td>\n",
       "    </tr>\n",
       "    <tr>\n",
       "      <th>max</th>\n",
       "      <td>4.462566e+07</td>\n",
       "      <td>2022.000000</td>\n",
       "      <td>133.000000</td>\n",
       "    </tr>\n",
       "  </tbody>\n",
       "</table>\n",
       "</div>"
      ],
      "text/plain": [
       "        customer_id  customer_age        tenure\n",
       "count  2.000000e+04  20000.000000  20000.000000\n",
       "mean   1.760040e+07    262.222550     44.396800\n",
       "std    8.679505e+06    604.321589     31.998376\n",
       "min    2.093000e+03    -34.000000      4.000000\n",
       "25%    1.188115e+07     29.000000     21.000000\n",
       "50%    1.560912e+07     38.000000     35.000000\n",
       "75%    2.228484e+07    123.000000     60.000000\n",
       "max    4.462566e+07   2022.000000    133.000000"
      ]
     },
     "execution_count": 9,
     "metadata": {},
     "output_type": "execute_result"
    }
   ],
   "source": [
    "#overview of the dataset\n",
    "#noticed that min, mean and max age is incorrect\n",
    "df_details.describe()"
   ]
  },
  {
   "cell_type": "code",
   "execution_count": 10,
   "id": "ab191cfa",
   "metadata": {
    "execution": {
     "iopub.execute_input": "2022-02-18T10:30:25.911622Z",
     "iopub.status.busy": "2022-02-18T10:30:25.911149Z",
     "iopub.status.idle": "2022-02-18T10:30:25.916528Z",
     "shell.execute_reply": "2022-02-18T10:30:25.916872Z"
    },
    "papermill": {
     "duration": 0.044257,
     "end_time": "2022-02-18T10:30:25.917011",
     "exception": false,
     "start_time": "2022-02-18T10:30:25.872754",
     "status": "completed"
    },
    "tags": []
   },
   "outputs": [
    {
     "data": {
      "text/plain": [
       "1"
      ]
     },
     "execution_count": 10,
     "metadata": {},
     "output_type": "execute_result"
    }
   ],
   "source": [
    "#number of users with ages less than 0\n",
    "len(df_details[(df_details.customer_age < 0)])"
   ]
  },
  {
   "cell_type": "code",
   "execution_count": 11,
   "id": "c3b5a00a",
   "metadata": {
    "execution": {
     "iopub.execute_input": "2022-02-18T10:30:25.995854Z",
     "iopub.status.busy": "2022-02-18T10:30:25.995273Z",
     "iopub.status.idle": "2022-02-18T10:30:25.998776Z",
     "shell.execute_reply": "2022-02-18T10:30:25.998430Z"
    },
    "papermill": {
     "duration": 0.04522,
     "end_time": "2022-02-18T10:30:25.998869",
     "exception": false,
     "start_time": "2022-02-18T10:30:25.953649",
     "status": "completed"
    },
    "tags": []
   },
   "outputs": [
    {
     "data": {
      "text/plain": [
       "2102"
      ]
     },
     "execution_count": 11,
     "metadata": {},
     "output_type": "execute_result"
    }
   ],
   "source": [
    "#number of users with ages 2022\n",
    "len(df_details[(df_details.customer_age == 2022)])"
   ]
  },
  {
   "cell_type": "markdown",
   "id": "93ccd699",
   "metadata": {
    "papermill": {
     "duration": 0.037662,
     "end_time": "2022-02-18T10:30:26.075222",
     "exception": false,
     "start_time": "2022-02-18T10:30:26.037560",
     "status": "completed"
    },
    "tags": []
   },
   "source": [
    "## 2. Weightage of Wrong VS Correct User Ages\n",
    "a. In the details dataset there are users with incorrect ages. This would produce an incorrect result/ analysis if we were to do visualisation showing transaction by age distribution. First lets **look at the age distribution to have an overall sensing**. It seems like we have a **handful of users with age more than 1500**. Lets **filter out this** so we can look at a less skewed age distribution. "
   ]
  },
  {
   "cell_type": "code",
   "execution_count": 12,
   "id": "ccc532c7",
   "metadata": {
    "execution": {
     "iopub.execute_input": "2022-02-18T10:30:26.155093Z",
     "iopub.status.busy": "2022-02-18T10:30:26.153183Z",
     "iopub.status.idle": "2022-02-18T10:30:26.356231Z",
     "shell.execute_reply": "2022-02-18T10:30:26.355682Z"
    },
    "papermill": {
     "duration": 0.242641,
     "end_time": "2022-02-18T10:30:26.356347",
     "exception": false,
     "start_time": "2022-02-18T10:30:26.113706",
     "status": "completed"
    },
    "tags": []
   },
   "outputs": [
    {
     "data": {
      "image/png": "[encoded data removed]",
      "text/plain": [
       "<Figure size 432x288 with 1 Axes>"
      ]
     },
     "metadata": {},
     "output_type": "display_data"
    }
   ],
   "source": [
    "plt.style.use(\"ggplot\")\n",
    "\n",
    "plt.hist(df_details.customer_age)\n",
    "plt.title(\"User Age Distribution, Users with Wrong Age\", size = 10)\n",
    "plt.show()"
   ]
  },
  {
   "cell_type": "markdown",
   "id": "4ef36dea",
   "metadata": {
    "papermill": {
     "duration": 0.038707,
     "end_time": "2022-02-18T10:30:26.434168",
     "exception": false,
     "start_time": "2022-02-18T10:30:26.395461",
     "status": "completed"
    },
    "tags": []
   },
   "source": [
    "b. We also have a handful of users wieh age that is at the **110 - 125 range**. Lets **filter out these users (and also the user with -34 age)** so that we can have a more accurate overview of the remaining data. "
   ]
  },
  {
   "cell_type": "code",
   "execution_count": 13,
   "id": "829f6ba9",
   "metadata": {
    "execution": {
     "iopub.execute_input": "2022-02-18T10:30:26.516252Z",
     "iopub.status.busy": "2022-02-18T10:30:26.515745Z",
     "iopub.status.idle": "2022-02-18T10:30:26.682032Z",
     "shell.execute_reply": "2022-02-18T10:30:26.681389Z"
    },
    "papermill": {
     "duration": 0.209541,
     "end_time": "2022-02-18T10:30:26.682153",
     "exception": false,
     "start_time": "2022-02-18T10:30:26.472612",
     "status": "completed"
    },
    "tags": []
   },
   "outputs": [
    {
     "data": {
      "image/png": "[encoded data removed]",
      "text/plain": [
       "<Figure size 432x288 with 1 Axes>"
      ]
     },
     "metadata": {},
     "output_type": "display_data"
    }
   ],
   "source": [
    "plt.hist(df_details[df_details.customer_age < 1500][\"customer_age\"], edgecolor = \"white\")\n",
    "plt.title(\"User Age Distribution, Users with Wrong Age\", size = 10)\n",
    "plt.show()"
   ]
  },
  {
   "cell_type": "markdown",
   "id": "4ac7ee7b",
   "metadata": {
    "papermill": {
     "duration": 0.039174,
     "end_time": "2022-02-18T10:30:26.760937",
     "exception": false,
     "start_time": "2022-02-18T10:30:26.721763",
     "status": "completed"
    },
    "tags": []
   },
   "source": [
    "c. The age distribution seems correct here, with users between the age of **5 to 70**. However, there could still be users with **ages 0-5 and 70-100**, that does not appear on the histogram chart as the ages are **too skewed towards ages 25-30**. Lets do a logarithmic graph to have a clearer visualisation."
   ]
  },
  {
   "cell_type": "code",
   "execution_count": 14,
   "id": "2ea5ef96",
   "metadata": {
    "execution": {
     "iopub.execute_input": "2022-02-18T10:30:26.847181Z",
     "iopub.status.busy": "2022-02-18T10:30:26.846555Z",
     "iopub.status.idle": "2022-02-18T10:30:27.046615Z",
     "shell.execute_reply": "2022-02-18T10:30:27.046963Z"
    },
    "papermill": {
     "duration": 0.245898,
     "end_time": "2022-02-18T10:30:27.047115",
     "exception": false,
     "start_time": "2022-02-18T10:30:26.801217",
     "status": "completed"
    },
    "tags": []
   },
   "outputs": [
    {
     "data": {
      "image/png": "[encoded data removed]",
      "text/plain": [
       "<Figure size 432x288 with 1 Axes>"
      ]
     },
     "metadata": {},
     "output_type": "display_data"
    }
   ],
   "source": [
    "bins = np.arange(0,105,5).tolist()\n",
    "\n",
    "plt.hist(df_details[df_details.customer_age.between(0,100)][\"customer_age\"], bins = bins, edgecolor = \"white\")\n",
    "plt.xticks(bins)\n",
    "\n",
    "plt.title(\"User Age Distribution, Users with Correct Age\", size = 10)\n",
    "plt.show()"
   ]
  },
  {
   "cell_type": "markdown",
   "id": "4ba46d73",
   "metadata": {
    "papermill": {
     "duration": 0.039912,
     "end_time": "2022-02-18T10:30:27.126909",
     "exception": false,
     "start_time": "2022-02-18T10:30:27.086997",
     "status": "completed"
    },
    "tags": []
   },
   "source": [
    "d. It seems like we **do have users from age 0 to 5 and 70-100**. However, are users with **ages 0-5 be old enough** to register an account in the ecommerce platform? Do we need to filter these groups of users out? Lets keep the dataset and weight the overall proportion/ percentages of correct data against wrong data. "
   ]
  },
  {
   "cell_type": "code",
   "execution_count": 15,
   "id": "25e9cf98",
   "metadata": {
    "execution": {
     "iopub.execute_input": "2022-02-18T10:30:27.210911Z",
     "iopub.status.busy": "2022-02-18T10:30:27.210439Z",
     "iopub.status.idle": "2022-02-18T10:30:27.762772Z",
     "shell.execute_reply": "2022-02-18T10:30:27.763154Z"
    },
    "papermill": {
     "duration": 0.596344,
     "end_time": "2022-02-18T10:30:27.763296",
     "exception": false,
     "start_time": "2022-02-18T10:30:27.166952",
     "status": "completed"
    },
    "tags": []
   },
   "outputs": [
    {
     "data": {
      "image/png": "[encoded data removed]",
      "text/plain": [
       "<Figure size 432x288 with 1 Axes>"
      ]
     },
     "metadata": {},
     "output_type": "display_data"
    }
   ],
   "source": [
    "bins = np.arange(0,105,5).tolist()\n",
    "\n",
    "plt.hist(df_details[df_details.customer_age.between(0,100)][\"customer_age\"], bins = bins, edgecolor = \"white\",\n",
    "        log = True)\n",
    "plt.xticks(bins)\n",
    "\n",
    "plt.title(\"Log: User Age Distribution, Users with Correct Age\", size = 10)\n",
    "plt.show()"
   ]
  },
  {
   "cell_type": "code",
   "execution_count": 16,
   "id": "64d9a06a",
   "metadata": {
    "execution": {
     "iopub.execute_input": "2022-02-18T10:30:27.849728Z",
     "iopub.status.busy": "2022-02-18T10:30:27.849234Z",
     "iopub.status.idle": "2022-02-18T10:30:27.854981Z",
     "shell.execute_reply": "2022-02-18T10:30:27.854589Z"
    },
    "papermill": {
     "duration": 0.050641,
     "end_time": "2022-02-18T10:30:27.855080",
     "exception": false,
     "start_time": "2022-02-18T10:30:27.804439",
     "status": "completed"
    },
    "tags": []
   },
   "outputs": [],
   "source": [
    "age_100_above = len(df_details[df_details.customer_age > 100])\n",
    "age_6_100 = len(df_details[df_details.customer_age.between(6,100)])\n",
    "age_5 = len(df_details[df_details.customer_age.between(0,5)])\n",
    "age_less_0 = len(df_details[df_details.customer_age < 0])"
   ]
  },
  {
   "cell_type": "markdown",
   "id": "1eca0bf3",
   "metadata": {
    "papermill": {
     "duration": 0.041331,
     "end_time": "2022-02-18T10:30:27.936916",
     "exception": false,
     "start_time": "2022-02-18T10:30:27.895585",
     "status": "completed"
    },
    "tags": []
   },
   "source": [
    "e. There are more than 6707 users with incorrect ages, which is about ~50 of users with correct age. **If we were to exclude users with incorrect ages when doing subsequent analysis, we would be excluding 1/3 of the entire dataset**. If we were to conduct an analysis to look at any correlation with any attributes with ages, then we would have to use ages 6-100 for a more accurate representation. "
   ]
  },
  {
   "cell_type": "code",
   "execution_count": 17,
   "id": "9c0f9300",
   "metadata": {
    "_kg_hide-input": true,
    "execution": {
     "iopub.execute_input": "2022-02-18T10:30:28.024118Z",
     "iopub.status.busy": "2022-02-18T10:30:28.020358Z",
     "iopub.status.idle": "2022-02-18T10:30:28.139687Z",
     "shell.execute_reply": "2022-02-18T10:30:28.140169Z"
    },
    "papermill": {
     "duration": 0.162976,
     "end_time": "2022-02-18T10:30:28.140334",
     "exception": false,
     "start_time": "2022-02-18T10:30:27.977358",
     "status": "completed"
    },
    "tags": []
   },
   "outputs": [
    {
     "data": {
      "image/png": "[encoded data removed]",
      "text/plain": [
       "<Figure size 432x288 with 1 Axes>"
      ]
     },
     "metadata": {},
     "output_type": "display_data"
    }
   ],
   "source": [
    "age = [age_100_above, age_6_100, age_5, age_less_0]\n",
    "age_cat = [\"More than 100\", \"6 - 100\", \"0 - 5\", \"Less than 0\"]\n",
    "\n",
    "age.reverse()\n",
    "age_cat.reverse()\n",
    "\n",
    "palette = [\"maroon\", \"darkslategrey\", \"seagreen\", \"crimson\"]\n",
    "\n",
    "fig, ax = plt.subplots()\n",
    "\n",
    "hbars = ax.barh(age_cat, age, color = palette, alpha = 0.7)\n",
    "\n",
    "ax.bar_label(hbars, fmt='%.0f')\n",
    "\n",
    "x_tick = np.arange(0,16000, 2000).tolist()\n",
    "ax.set_xticks(x_tick)\n",
    "plt.xlabel(\"Total Customers\")\n",
    "\n",
    "plt.title(\"Distribution of Correct & Incorrect Ages\", size = 10)\n",
    "\n",
    "plt.show()"
   ]
  },
  {
   "cell_type": "markdown",
   "id": "a75379f5",
   "metadata": {
    "papermill": {
     "duration": 0.045112,
     "end_time": "2022-02-18T10:30:28.240666",
     "exception": false,
     "start_time": "2022-02-18T10:30:28.195554",
     "status": "completed"
    },
    "tags": []
   },
   "source": [
    "## 3. Working with Invalid/ Incorrect Data \n",
    "**Correlation between Ages, Sex and Tenure of Customers**\n",
    "\n",
    "a. Previously, we have discovered that there are a handful of customers with invalid ages. However, in order to do an analysis involving correlation between ages, sex and tenure, we would have to **use valid data**. We would **till have a total of 12,580 /20,000 which is still accetable and a large number of customers**. "
   ]
  },
  {
   "cell_type": "code",
   "execution_count": 18,
   "id": "31442856",
   "metadata": {
    "execution": {
     "iopub.execute_input": "2022-02-18T10:30:28.326355Z",
     "iopub.status.busy": "2022-02-18T10:30:28.325916Z",
     "iopub.status.idle": "2022-02-18T10:30:28.335622Z",
     "shell.execute_reply": "2022-02-18T10:30:28.336085Z"
    },
    "papermill": {
     "duration": 0.053565,
     "end_time": "2022-02-18T10:30:28.336208",
     "exception": false,
     "start_time": "2022-02-18T10:30:28.282643",
     "status": "completed"
    },
    "tags": []
   },
   "outputs": [
    {
     "data": {
      "text/html": [
       "<div>\n",
       "<style scoped>\n",
       "    .dataframe tbody tr th:only-of-type {\n",
       "        vertical-align: middle;\n",
       "    }\n",
       "\n",
       "    .dataframe tbody tr th {\n",
       "        vertical-align: top;\n",
       "    }\n",
       "\n",
       "    .dataframe thead th {\n",
       "        text-align: right;\n",
       "    }\n",
       "</style>\n",
       "<table border=\"1\" class=\"dataframe\">\n",
       "  <thead>\n",
       "    <tr style=\"text-align: right;\">\n",
       "      <th></th>\n",
       "      <th>customer_id</th>\n",
       "      <th>sex</th>\n",
       "      <th>customer_age</th>\n",
       "      <th>tenure</th>\n",
       "    </tr>\n",
       "  </thead>\n",
       "  <tbody>\n",
       "    <tr>\n",
       "      <th>0</th>\n",
       "      <td>9798859</td>\n",
       "      <td>Male</td>\n",
       "      <td>44.0</td>\n",
       "      <td>93</td>\n",
       "    </tr>\n",
       "    <tr>\n",
       "      <th>1</th>\n",
       "      <td>11413563</td>\n",
       "      <td>Male</td>\n",
       "      <td>36.0</td>\n",
       "      <td>65</td>\n",
       "    </tr>\n",
       "    <tr>\n",
       "      <th>2</th>\n",
       "      <td>818195</td>\n",
       "      <td>Male</td>\n",
       "      <td>35.0</td>\n",
       "      <td>129</td>\n",
       "    </tr>\n",
       "    <tr>\n",
       "      <th>3</th>\n",
       "      <td>12049009</td>\n",
       "      <td>Male</td>\n",
       "      <td>33.0</td>\n",
       "      <td>58</td>\n",
       "    </tr>\n",
       "    <tr>\n",
       "      <th>4</th>\n",
       "      <td>10083045</td>\n",
       "      <td>Male</td>\n",
       "      <td>42.0</td>\n",
       "      <td>88</td>\n",
       "    </tr>\n",
       "  </tbody>\n",
       "</table>\n",
       "</div>"
      ],
      "text/plain": [
       "   customer_id   sex  customer_age  tenure\n",
       "0      9798859  Male          44.0      93\n",
       "1     11413563  Male          36.0      65\n",
       "2       818195  Male          35.0     129\n",
       "3     12049009  Male          33.0      58\n",
       "4     10083045  Male          42.0      88"
      ]
     },
     "execution_count": 18,
     "metadata": {},
     "output_type": "execute_result"
    }
   ],
   "source": [
    "#filtering users with correct ages \n",
    "df_details_1 = df_details[df_details.customer_age.between(6,100)]\n",
    "df_details_1.head()"
   ]
  },
  {
   "cell_type": "markdown",
   "id": "a0f72e59",
   "metadata": {
    "papermill": {
     "duration": 0.041986,
     "end_time": "2022-02-18T10:30:28.419927",
     "exception": false,
     "start_time": "2022-02-18T10:30:28.377941",
     "status": "completed"
    },
    "tags": []
   },
   "source": [
    "b. There are **9 rows of invalid data**, 8 with \"kvkktalepsilindi\" and 1 \"UKNOWN\". "
   ]
  },
  {
   "cell_type": "code",
   "execution_count": 19,
   "id": "a990fe79",
   "metadata": {
    "execution": {
     "iopub.execute_input": "2022-02-18T10:30:28.508686Z",
     "iopub.status.busy": "2022-02-18T10:30:28.508194Z",
     "iopub.status.idle": "2022-02-18T10:30:28.514670Z",
     "shell.execute_reply": "2022-02-18T10:30:28.514234Z"
    },
    "papermill": {
     "duration": 0.052409,
     "end_time": "2022-02-18T10:30:28.514766",
     "exception": false,
     "start_time": "2022-02-18T10:30:28.462357",
     "status": "completed"
    },
    "tags": []
   },
   "outputs": [
    {
     "data": {
      "text/plain": [
       "Male                9392\n",
       "Female              3179\n",
       "kvkktalepsilindi       8\n",
       "UNKNOWN                1\n",
       "Name: sex, dtype: int64"
      ]
     },
     "execution_count": 19,
     "metadata": {},
     "output_type": "execute_result"
    }
   ],
   "source": [
    "#check sex to ensure no invalid cells \n",
    "df_sex = df_details_1.sex.value_counts()\n",
    "df_sex"
   ]
  },
  {
   "cell_type": "code",
   "execution_count": 20,
   "id": "7bb523d2",
   "metadata": {
    "execution": {
     "iopub.execute_input": "2022-02-18T10:30:28.608047Z",
     "iopub.status.busy": "2022-02-18T10:30:28.607584Z",
     "iopub.status.idle": "2022-02-18T10:30:28.614821Z",
     "shell.execute_reply": "2022-02-18T10:30:28.615222Z"
    },
    "papermill": {
     "duration": 0.056162,
     "end_time": "2022-02-18T10:30:28.615344",
     "exception": false,
     "start_time": "2022-02-18T10:30:28.559182",
     "status": "completed"
    },
    "scrolled": true,
    "tags": []
   },
   "outputs": [
    {
     "data": {
      "text/html": [
       "<div>\n",
       "<style scoped>\n",
       "    .dataframe tbody tr th:only-of-type {\n",
       "        vertical-align: middle;\n",
       "    }\n",
       "\n",
       "    .dataframe tbody tr th {\n",
       "        vertical-align: top;\n",
       "    }\n",
       "\n",
       "    .dataframe thead th {\n",
       "        text-align: right;\n",
       "    }\n",
       "</style>\n",
       "<table border=\"1\" class=\"dataframe\">\n",
       "  <thead>\n",
       "    <tr style=\"text-align: right;\">\n",
       "      <th></th>\n",
       "      <th>customer_id</th>\n",
       "      <th>sex</th>\n",
       "      <th>customer_age</th>\n",
       "      <th>tenure</th>\n",
       "    </tr>\n",
       "  </thead>\n",
       "  <tbody>\n",
       "    <tr>\n",
       "      <th>0</th>\n",
       "      <td>9798859</td>\n",
       "      <td>Male</td>\n",
       "      <td>44.0</td>\n",
       "      <td>93</td>\n",
       "    </tr>\n",
       "    <tr>\n",
       "      <th>1</th>\n",
       "      <td>11413563</td>\n",
       "      <td>Male</td>\n",
       "      <td>36.0</td>\n",
       "      <td>65</td>\n",
       "    </tr>\n",
       "    <tr>\n",
       "      <th>2</th>\n",
       "      <td>818195</td>\n",
       "      <td>Male</td>\n",
       "      <td>35.0</td>\n",
       "      <td>129</td>\n",
       "    </tr>\n",
       "    <tr>\n",
       "      <th>3</th>\n",
       "      <td>12049009</td>\n",
       "      <td>Male</td>\n",
       "      <td>33.0</td>\n",
       "      <td>58</td>\n",
       "    </tr>\n",
       "    <tr>\n",
       "      <th>4</th>\n",
       "      <td>10083045</td>\n",
       "      <td>Male</td>\n",
       "      <td>42.0</td>\n",
       "      <td>88</td>\n",
       "    </tr>\n",
       "  </tbody>\n",
       "</table>\n",
       "</div>"
      ],
      "text/plain": [
       "   customer_id   sex  customer_age  tenure\n",
       "0      9798859  Male          44.0      93\n",
       "1     11413563  Male          36.0      65\n",
       "2       818195  Male          35.0     129\n",
       "3     12049009  Male          33.0      58\n",
       "4     10083045  Male          42.0      88"
      ]
     },
     "execution_count": 20,
     "metadata": {},
     "output_type": "execute_result"
    }
   ],
   "source": [
    "#taking fields with only \"Female\" and \"Male\" under sex attribute\n",
    "df_details_1 = df_details_1[(df_details_1.sex == \"Female\") | (df_details_1.sex == \"Male\")]\n",
    "df_details_1.head()"
   ]
  },
  {
   "cell_type": "code",
   "execution_count": 21,
   "id": "f8744a76",
   "metadata": {
    "execution": {
     "iopub.execute_input": "2022-02-18T10:30:28.703870Z",
     "iopub.status.busy": "2022-02-18T10:30:28.703402Z",
     "iopub.status.idle": "2022-02-18T10:30:28.743535Z",
     "shell.execute_reply": "2022-02-18T10:30:28.743124Z"
    },
    "papermill": {
     "duration": 0.085226,
     "end_time": "2022-02-18T10:30:28.743648",
     "exception": false,
     "start_time": "2022-02-18T10:30:28.658422",
     "status": "completed"
    },
    "tags": []
   },
   "outputs": [
    {
     "data": {
      "text/html": [
       "<div>\n",
       "<style scoped>\n",
       "    .dataframe tbody tr th:only-of-type {\n",
       "        vertical-align: middle;\n",
       "    }\n",
       "\n",
       "    .dataframe tbody tr th {\n",
       "        vertical-align: top;\n",
       "    }\n",
       "\n",
       "    .dataframe thead th {\n",
       "        text-align: right;\n",
       "    }\n",
       "</style>\n",
       "<table border=\"1\" class=\"dataframe\">\n",
       "  <thead>\n",
       "    <tr style=\"text-align: right;\">\n",
       "      <th></th>\n",
       "      <th>customer_id</th>\n",
       "      <th>customer_age</th>\n",
       "      <th>tenure</th>\n",
       "      <th>tenure_year</th>\n",
       "    </tr>\n",
       "  </thead>\n",
       "  <tbody>\n",
       "    <tr>\n",
       "      <th>count</th>\n",
       "      <td>1.257100e+04</td>\n",
       "      <td>12571.000000</td>\n",
       "      <td>12571.000000</td>\n",
       "      <td>12571.000000</td>\n",
       "    </tr>\n",
       "    <tr>\n",
       "      <th>mean</th>\n",
       "      <td>1.577671e+07</td>\n",
       "      <td>33.757776</td>\n",
       "      <td>53.197598</td>\n",
       "      <td>4.431143</td>\n",
       "    </tr>\n",
       "    <tr>\n",
       "      <th>std</th>\n",
       "      <td>8.510168e+06</td>\n",
       "      <td>8.870829</td>\n",
       "      <td>35.068828</td>\n",
       "      <td>2.927074</td>\n",
       "    </tr>\n",
       "    <tr>\n",
       "      <th>min</th>\n",
       "      <td>2.093000e+03</td>\n",
       "      <td>6.000000</td>\n",
       "      <td>4.000000</td>\n",
       "      <td>0.300000</td>\n",
       "    </tr>\n",
       "    <tr>\n",
       "      <th>25%</th>\n",
       "      <td>1.053723e+07</td>\n",
       "      <td>27.000000</td>\n",
       "      <td>25.000000</td>\n",
       "      <td>2.100000</td>\n",
       "    </tr>\n",
       "    <tr>\n",
       "      <th>50%</th>\n",
       "      <td>1.370424e+07</td>\n",
       "      <td>32.000000</td>\n",
       "      <td>44.000000</td>\n",
       "      <td>3.700000</td>\n",
       "    </tr>\n",
       "    <tr>\n",
       "      <th>75%</th>\n",
       "      <td>2.031176e+07</td>\n",
       "      <td>39.000000</td>\n",
       "      <td>78.000000</td>\n",
       "      <td>6.500000</td>\n",
       "    </tr>\n",
       "    <tr>\n",
       "      <th>max</th>\n",
       "      <td>4.462178e+07</td>\n",
       "      <td>100.000000</td>\n",
       "      <td>133.000000</td>\n",
       "      <td>11.100000</td>\n",
       "    </tr>\n",
       "  </tbody>\n",
       "</table>\n",
       "</div>"
      ],
      "text/plain": [
       "        customer_id  customer_age        tenure   tenure_year\n",
       "count  1.257100e+04  12571.000000  12571.000000  12571.000000\n",
       "mean   1.577671e+07     33.757776     53.197598      4.431143\n",
       "std    8.510168e+06      8.870829     35.068828      2.927074\n",
       "min    2.093000e+03      6.000000      4.000000      0.300000\n",
       "25%    1.053723e+07     27.000000     25.000000      2.100000\n",
       "50%    1.370424e+07     32.000000     44.000000      3.700000\n",
       "75%    2.031176e+07     39.000000     78.000000      6.500000\n",
       "max    4.462178e+07    100.000000    133.000000     11.100000"
      ]
     },
     "execution_count": 21,
     "metadata": {},
     "output_type": "execute_result"
    }
   ],
   "source": [
    "#convert tenure to years \n",
    "df_details_1[\"tenure\"] = df_details_1[\"tenure\"].astype(\"float\")\n",
    "df_details_1[\"tenure_year\"] = [round(i/12,1) for i in df_details_1[\"tenure\"]]\n",
    "\n",
    "df_details_1.describe()"
   ]
  },
  {
   "cell_type": "markdown",
   "id": "f679c6df",
   "metadata": {
    "papermill": {
     "duration": 0.046242,
     "end_time": "2022-02-18T10:30:28.833650",
     "exception": false,
     "start_time": "2022-02-18T10:30:28.787408",
     "status": "completed"
    },
    "tags": []
   },
   "source": [
    "c. There are **more males than females** using the E-commerce platform. For tenure and age distribution, **both genders** have most user in their **late twenties (25-29)** who are registered with the platform for **2 years**. The second higheest group will be those in their **early thirties (30-35)**, who are registered with the platform for **8 years**. "
   ]
  },
  {
   "cell_type": "code",
   "execution_count": 22,
   "id": "714ca159",
   "metadata": {
    "_kg_hide-input": true,
    "execution": {
     "iopub.execute_input": "2022-02-18T10:30:28.954452Z",
     "iopub.status.busy": "2022-02-18T10:30:28.953887Z",
     "iopub.status.idle": "2022-02-18T10:30:37.096323Z",
     "shell.execute_reply": "2022-02-18T10:30:37.096818Z"
    },
    "papermill": {
     "duration": 8.219502,
     "end_time": "2022-02-18T10:30:37.096943",
     "exception": false,
     "start_time": "2022-02-18T10:30:28.877441",
     "status": "completed"
    },
    "tags": []
   },
   "outputs": [
    {
     "data": {
      "text/plain": [
       "<Figure size 720x360 with 0 Axes>"
      ]
     },
     "metadata": {},
     "output_type": "display_data"
    },
    {
     "data": {
      "image/png": "[encoded data removed]",
      "text/plain": [
       "<Figure size 432x432 with 3 Axes>"
      ]
     },
     "metadata": {},
     "output_type": "display_data"
    }
   ],
   "source": [
    "plt.figure(figsize = (10,5))\n",
    "\n",
    "g = sns.jointplot(data = df_details_1,\n",
    "              x = \"customer_age\", y = \"tenure_year\",\n",
    "              hue = \"sex\",\n",
    "              kind = \"kde\",\n",
    "              palette = [\"salmon\", \"royalblue\"])\n",
    "\n",
    "x_ticks = np.arange(0,110,10).tolist()\n",
    "\n",
    "g.ax_joint.set_xticks(x_ticks)\n",
    "\n",
    "g.fig.suptitle(\"Customer Age, Tenure and Gender Distribution\", y = 1.05)\n",
    "\n",
    "g.ax_joint.set_xlabel(\"Age\")\n",
    "g.ax_joint.set_ylabel(\"Tenure/ Year\")\n",
    "\n",
    "plt.show()"
   ]
  },
  {
   "cell_type": "markdown",
   "id": "5254ac9f",
   "metadata": {
    "papermill": {
     "duration": 0.046468,
     "end_time": "2022-02-18T10:30:37.190222",
     "exception": false,
     "start_time": "2022-02-18T10:30:37.143754",
     "status": "completed"
    },
    "tags": []
   },
   "source": [
    "## 4. Registered VS Non-Registered Customers Who Made Purchases"
   ]
  },
  {
   "cell_type": "code",
   "execution_count": 23,
   "id": "6f0f553c",
   "metadata": {
    "execution": {
     "iopub.execute_input": "2022-02-18T10:30:37.321812Z",
     "iopub.status.busy": "2022-02-18T10:30:37.321171Z",
     "iopub.status.idle": "2022-02-18T10:30:37.376455Z",
     "shell.execute_reply": "2022-02-18T10:30:37.375959Z"
    },
    "papermill": {
     "duration": 0.137709,
     "end_time": "2022-02-18T10:30:37.376564",
     "exception": false,
     "start_time": "2022-02-18T10:30:37.238855",
     "status": "completed"
    },
    "tags": []
   },
   "outputs": [
    {
     "data": {
      "text/html": [
       "<div>\n",
       "<style scoped>\n",
       "    .dataframe tbody tr th:only-of-type {\n",
       "        vertical-align: middle;\n",
       "    }\n",
       "\n",
       "    .dataframe tbody tr th {\n",
       "        vertical-align: top;\n",
       "    }\n",
       "\n",
       "    .dataframe thead th {\n",
       "        text-align: right;\n",
       "    }\n",
       "</style>\n",
       "<table border=\"1\" class=\"dataframe\">\n",
       "  <thead>\n",
       "    <tr style=\"text-align: right;\">\n",
       "      <th></th>\n",
       "      <th>customer_id</th>\n",
       "      <th>product_id</th>\n",
       "      <th>basket_date</th>\n",
       "      <th>basket_count</th>\n",
       "      <th>sex</th>\n",
       "      <th>customer_age</th>\n",
       "      <th>tenure</th>\n",
       "    </tr>\n",
       "  </thead>\n",
       "  <tbody>\n",
       "    <tr>\n",
       "      <th>0</th>\n",
       "      <td>42366585</td>\n",
       "      <td>41475073</td>\n",
       "      <td>2019-06-19</td>\n",
       "      <td>2</td>\n",
       "      <td>NaN</td>\n",
       "      <td>NaN</td>\n",
       "      <td>NaN</td>\n",
       "    </tr>\n",
       "    <tr>\n",
       "      <th>1</th>\n",
       "      <td>35956841</td>\n",
       "      <td>43279538</td>\n",
       "      <td>2019-06-19</td>\n",
       "      <td>2</td>\n",
       "      <td>NaN</td>\n",
       "      <td>NaN</td>\n",
       "      <td>NaN</td>\n",
       "    </tr>\n",
       "    <tr>\n",
       "      <th>2</th>\n",
       "      <td>26139578</td>\n",
       "      <td>31715598</td>\n",
       "      <td>2019-06-19</td>\n",
       "      <td>3</td>\n",
       "      <td>NaN</td>\n",
       "      <td>NaN</td>\n",
       "      <td>NaN</td>\n",
       "    </tr>\n",
       "    <tr>\n",
       "      <th>3</th>\n",
       "      <td>3262253</td>\n",
       "      <td>47880260</td>\n",
       "      <td>2019-06-19</td>\n",
       "      <td>2</td>\n",
       "      <td>NaN</td>\n",
       "      <td>NaN</td>\n",
       "      <td>NaN</td>\n",
       "    </tr>\n",
       "    <tr>\n",
       "      <th>4</th>\n",
       "      <td>20056678</td>\n",
       "      <td>44747002</td>\n",
       "      <td>2019-06-19</td>\n",
       "      <td>2</td>\n",
       "      <td>NaN</td>\n",
       "      <td>NaN</td>\n",
       "      <td>NaN</td>\n",
       "    </tr>\n",
       "  </tbody>\n",
       "</table>\n",
       "</div>"
      ],
      "text/plain": [
       "  customer_id  product_id basket_date  basket_count  sex  customer_age  tenure\n",
       "0    42366585    41475073  2019-06-19             2  NaN           NaN     NaN\n",
       "1    35956841    43279538  2019-06-19             2  NaN           NaN     NaN\n",
       "2    26139578    31715598  2019-06-19             3  NaN           NaN     NaN\n",
       "3     3262253    47880260  2019-06-19             2  NaN           NaN     NaN\n",
       "4    20056678    44747002  2019-06-19             2  NaN           NaN     NaN"
      ]
     },
     "execution_count": 23,
     "metadata": {},
     "output_type": "execute_result"
    }
   ],
   "source": [
    "#left join on customer id attribute/ column \n",
    "df_basket[\"customer_id\"] = df_basket[\"customer_id\"].astype(\"str\")\n",
    "df_details[\"customer_id\"] = df_details[\"customer_id\"].astype(\"str\")\n",
    "df_overall = pd.merge(df_basket, df_details, how = \"left\", left_on = \"customer_id\", right_on = \"customer_id\")\n",
    "df_overall.head()"
   ]
  },
  {
   "cell_type": "markdown",
   "id": "e5529ef1",
   "metadata": {
    "papermill": {
     "duration": 0.046879,
     "end_time": "2022-02-18T10:30:37.470560",
     "exception": false,
     "start_time": "2022-02-18T10:30:37.423681",
     "status": "completed"
    },
    "tags": []
   },
   "source": [
    "a. We expected that the number of customer id in df_basket would be a subset of custoer id in df_details because df_baskets contains all the customer's detail information. However, this is not the case! We have 14,928 our of 15000 rows that are NaN,m which means the customer id in df_basket could not be found in df_details. \n",
    "\n",
    "What does this mean? Could it be that there are errors in the df_details dataset? Could it be that customers not registered under ecommerce platform could also conduct transactions and given random customer ids? Lets assume that this is the case, and we can look at number of registered and unregistered customers. "
   ]
  },
  {
   "cell_type": "code",
   "execution_count": 24,
   "id": "b527f5cf",
   "metadata": {
    "execution": {
     "iopub.execute_input": "2022-02-18T10:30:37.575566Z",
     "iopub.status.busy": "2022-02-18T10:30:37.566328Z",
     "iopub.status.idle": "2022-02-18T10:30:37.578874Z",
     "shell.execute_reply": "2022-02-18T10:30:37.578437Z"
    },
    "papermill": {
     "duration": 0.060716,
     "end_time": "2022-02-18T10:30:37.578985",
     "exception": false,
     "start_time": "2022-02-18T10:30:37.518269",
     "status": "completed"
    },
    "tags": []
   },
   "outputs": [
    {
     "data": {
      "text/html": [
       "<div>\n",
       "<style scoped>\n",
       "    .dataframe tbody tr th:only-of-type {\n",
       "        vertical-align: middle;\n",
       "    }\n",
       "\n",
       "    .dataframe tbody tr th {\n",
       "        vertical-align: top;\n",
       "    }\n",
       "\n",
       "    .dataframe thead th {\n",
       "        text-align: right;\n",
       "    }\n",
       "</style>\n",
       "<table border=\"1\" class=\"dataframe\">\n",
       "  <thead>\n",
       "    <tr style=\"text-align: right;\">\n",
       "      <th></th>\n",
       "      <th>column</th>\n",
       "      <th>count</th>\n",
       "    </tr>\n",
       "  </thead>\n",
       "  <tbody>\n",
       "    <tr>\n",
       "      <th>0</th>\n",
       "      <td>customer_id</td>\n",
       "      <td>0</td>\n",
       "    </tr>\n",
       "    <tr>\n",
       "      <th>1</th>\n",
       "      <td>product_id</td>\n",
       "      <td>0</td>\n",
       "    </tr>\n",
       "    <tr>\n",
       "      <th>2</th>\n",
       "      <td>basket_date</td>\n",
       "      <td>0</td>\n",
       "    </tr>\n",
       "    <tr>\n",
       "      <th>3</th>\n",
       "      <td>basket_count</td>\n",
       "      <td>0</td>\n",
       "    </tr>\n",
       "    <tr>\n",
       "      <th>4</th>\n",
       "      <td>sex</td>\n",
       "      <td>14928</td>\n",
       "    </tr>\n",
       "    <tr>\n",
       "      <th>5</th>\n",
       "      <td>customer_age</td>\n",
       "      <td>14928</td>\n",
       "    </tr>\n",
       "    <tr>\n",
       "      <th>6</th>\n",
       "      <td>tenure</td>\n",
       "      <td>14928</td>\n",
       "    </tr>\n",
       "  </tbody>\n",
       "</table>\n",
       "</div>"
      ],
      "text/plain": [
       "         column  count\n",
       "0   customer_id      0\n",
       "1    product_id      0\n",
       "2   basket_date      0\n",
       "3  basket_count      0\n",
       "4           sex  14928\n",
       "5  customer_age  14928\n",
       "6        tenure  14928"
      ]
     },
     "execution_count": 24,
     "metadata": {},
     "output_type": "execute_result"
    }
   ],
   "source": [
    "#overall number of rows with NaN fields\n",
    "df_null = df_overall.isnull().sum().rename_axis(\"column\").reset_index(name = \"count\")\n",
    "df_null"
   ]
  },
  {
   "cell_type": "code",
   "execution_count": 25,
   "id": "5f5806cf",
   "metadata": {
    "execution": {
     "iopub.execute_input": "2022-02-18T10:30:37.681260Z",
     "iopub.status.busy": "2022-02-18T10:30:37.680747Z",
     "iopub.status.idle": "2022-02-18T10:30:37.692609Z",
     "shell.execute_reply": "2022-02-18T10:30:37.692197Z"
    },
    "papermill": {
     "duration": 0.06685,
     "end_time": "2022-02-18T10:30:37.692720",
     "exception": false,
     "start_time": "2022-02-18T10:30:37.625870",
     "status": "completed"
    },
    "tags": []
   },
   "outputs": [],
   "source": [
    "#determine number of unique users with and without customer_id in df_details\n",
    "df_overall_notnull = df_overall[df_overall.sex.notnull()]\n",
    "overall_notnull = df_overall_notnull[\"customer_id\"].nunique()\n",
    "\n",
    "df_overall_null = df_overall[df_overall.sex.isnull()]\n",
    "overall_null = df_overall_null[\"customer_id\"].nunique()"
   ]
  },
  {
   "cell_type": "markdown",
   "id": "a48ecc6f",
   "metadata": {
    "papermill": {
     "duration": 0.047397,
     "end_time": "2022-02-18T10:30:37.787939",
     "exception": false,
     "start_time": "2022-02-18T10:30:37.740542",
     "status": "completed"
    },
    "tags": []
   },
   "source": [
    "b. We have ~13,800 unregistered against 64 registered customers. This is quite shocking as the total transactions made on the Ecommerce platform is by customers who do not have an account. This also mean that out of 20,000 registered customers, only 64 made transactions. "
   ]
  },
  {
   "cell_type": "code",
   "execution_count": 26,
   "id": "1fce6e94",
   "metadata": {
    "_kg_hide-input": true,
    "execution": {
     "iopub.execute_input": "2022-02-18T10:30:37.890992Z",
     "iopub.status.busy": "2022-02-18T10:30:37.890135Z",
     "iopub.status.idle": "2022-02-18T10:30:38.010952Z",
     "shell.execute_reply": "2022-02-18T10:30:38.010162Z"
    },
    "papermill": {
     "duration": 0.175416,
     "end_time": "2022-02-18T10:30:38.011147",
     "exception": false,
     "start_time": "2022-02-18T10:30:37.835731",
     "status": "completed"
    },
    "tags": []
   },
   "outputs": [
    {
     "data": {
      "image/png": "[encoded data removed]",
      "text/plain": [
       "<Figure size 432x288 with 1 Axes>"
      ]
     },
     "metadata": {},
     "output_type": "display_data"
    }
   ],
   "source": [
    "customers = [overall_notnull, overall_null]\n",
    "customer_cat = [\"registered\", \"not registered\"]\n",
    "\n",
    "palette = [\"seagreen\", \"maroon\"]\n",
    "\n",
    "fig, ax = plt.subplots()\n",
    "\n",
    "hbars = plt.barh(customer_cat, customers, color = palette, alpha = 0.7)\n",
    "\n",
    "ax.bar_label(hbars, fmt='%.0f')\n",
    "\n",
    "plt.title(\"Registered VS Not Registers Customers\", size = 10)\n",
    "\n",
    "plt.xlabel(\"Total Customers\")\n",
    "\n",
    "plt.show()"
   ]
  },
  {
   "cell_type": "markdown",
   "id": "cd52d05c",
   "metadata": {
    "papermill": {
     "duration": 0.049895,
     "end_time": "2022-02-18T10:30:38.113764",
     "exception": false,
     "start_time": "2022-02-18T10:30:38.063869",
     "status": "completed"
    },
    "tags": []
   },
   "source": [
    "## 5. Unregistered Customers Transactions Trend"
   ]
  },
  {
   "cell_type": "code",
   "execution_count": 27,
   "id": "0fd7f897",
   "metadata": {
    "execution": {
     "iopub.execute_input": "2022-02-18T10:30:38.214373Z",
     "iopub.status.busy": "2022-02-18T10:30:38.213874Z",
     "iopub.status.idle": "2022-02-18T10:30:38.223510Z",
     "shell.execute_reply": "2022-02-18T10:30:38.223911Z"
    },
    "papermill": {
     "duration": 0.061262,
     "end_time": "2022-02-18T10:30:38.224068",
     "exception": false,
     "start_time": "2022-02-18T10:30:38.162806",
     "status": "completed"
    },
    "tags": []
   },
   "outputs": [
    {
     "data": {
      "text/html": [
       "<div>\n",
       "<style scoped>\n",
       "    .dataframe tbody tr th:only-of-type {\n",
       "        vertical-align: middle;\n",
       "    }\n",
       "\n",
       "    .dataframe tbody tr th {\n",
       "        vertical-align: top;\n",
       "    }\n",
       "\n",
       "    .dataframe thead th {\n",
       "        text-align: right;\n",
       "    }\n",
       "</style>\n",
       "<table border=\"1\" class=\"dataframe\">\n",
       "  <thead>\n",
       "    <tr style=\"text-align: right;\">\n",
       "      <th></th>\n",
       "      <th>customer_id</th>\n",
       "      <th>product_id</th>\n",
       "      <th>basket_date</th>\n",
       "      <th>basket_count</th>\n",
       "    </tr>\n",
       "  </thead>\n",
       "  <tbody>\n",
       "    <tr>\n",
       "      <th>0</th>\n",
       "      <td>42366585</td>\n",
       "      <td>41475073</td>\n",
       "      <td>2019-06-19</td>\n",
       "      <td>2</td>\n",
       "    </tr>\n",
       "    <tr>\n",
       "      <th>1</th>\n",
       "      <td>35956841</td>\n",
       "      <td>43279538</td>\n",
       "      <td>2019-06-19</td>\n",
       "      <td>2</td>\n",
       "    </tr>\n",
       "    <tr>\n",
       "      <th>2</th>\n",
       "      <td>26139578</td>\n",
       "      <td>31715598</td>\n",
       "      <td>2019-06-19</td>\n",
       "      <td>3</td>\n",
       "    </tr>\n",
       "    <tr>\n",
       "      <th>3</th>\n",
       "      <td>3262253</td>\n",
       "      <td>47880260</td>\n",
       "      <td>2019-06-19</td>\n",
       "      <td>2</td>\n",
       "    </tr>\n",
       "    <tr>\n",
       "      <th>4</th>\n",
       "      <td>20056678</td>\n",
       "      <td>44747002</td>\n",
       "      <td>2019-06-19</td>\n",
       "      <td>2</td>\n",
       "    </tr>\n",
       "  </tbody>\n",
       "</table>\n",
       "</div>"
      ],
      "text/plain": [
       "  customer_id  product_id basket_date  basket_count\n",
       "0    42366585    41475073  2019-06-19             2\n",
       "1    35956841    43279538  2019-06-19             2\n",
       "2    26139578    31715598  2019-06-19             3\n",
       "3     3262253    47880260  2019-06-19             2\n",
       "4    20056678    44747002  2019-06-19             2"
      ]
     },
     "execution_count": 27,
     "metadata": {},
     "output_type": "execute_result"
    }
   ],
   "source": [
    "#filter out unregistered customers and remove unecessary column\n",
    "df_unregistered = df_overall_null.drop([\"sex\", \"customer_age\", \"tenure\"], axis = 1)\n",
    "df_unregistered.head()"
   ]
  },
  {
   "cell_type": "code",
   "execution_count": 28,
   "id": "7b8e3b16",
   "metadata": {
    "execution": {
     "iopub.execute_input": "2022-02-18T10:30:38.325927Z",
     "iopub.status.busy": "2022-02-18T10:30:38.325474Z",
     "iopub.status.idle": "2022-02-18T10:30:38.340793Z",
     "shell.execute_reply": "2022-02-18T10:30:38.341234Z"
    },
    "papermill": {
     "duration": 0.067485,
     "end_time": "2022-02-18T10:30:38.341356",
     "exception": false,
     "start_time": "2022-02-18T10:30:38.273871",
     "status": "completed"
    },
    "tags": []
   },
   "outputs": [
    {
     "data": {
      "text/html": [
       "<div>\n",
       "<style scoped>\n",
       "    .dataframe tbody tr th:only-of-type {\n",
       "        vertical-align: middle;\n",
       "    }\n",
       "\n",
       "    .dataframe tbody tr th {\n",
       "        vertical-align: top;\n",
       "    }\n",
       "\n",
       "    .dataframe thead th {\n",
       "        text-align: right;\n",
       "    }\n",
       "</style>\n",
       "<table border=\"1\" class=\"dataframe\">\n",
       "  <thead>\n",
       "    <tr style=\"text-align: right;\">\n",
       "      <th></th>\n",
       "      <th>basket_date</th>\n",
       "      <th>number_of_customers</th>\n",
       "    </tr>\n",
       "  </thead>\n",
       "  <tbody>\n",
       "    <tr>\n",
       "      <th>0</th>\n",
       "      <td>2019-05-20</td>\n",
       "      <td>516</td>\n",
       "    </tr>\n",
       "    <tr>\n",
       "      <th>1</th>\n",
       "      <td>2019-05-21</td>\n",
       "      <td>451</td>\n",
       "    </tr>\n",
       "    <tr>\n",
       "      <th>2</th>\n",
       "      <td>2019-05-22</td>\n",
       "      <td>272</td>\n",
       "    </tr>\n",
       "    <tr>\n",
       "      <th>3</th>\n",
       "      <td>2019-05-23</td>\n",
       "      <td>274</td>\n",
       "    </tr>\n",
       "    <tr>\n",
       "      <th>4</th>\n",
       "      <td>2019-05-24</td>\n",
       "      <td>605</td>\n",
       "    </tr>\n",
       "  </tbody>\n",
       "</table>\n",
       "</div>"
      ],
      "text/plain": [
       "  basket_date  number_of_customers\n",
       "0  2019-05-20                  516\n",
       "1  2019-05-21                  451\n",
       "2  2019-05-22                  272\n",
       "3  2019-05-23                  274\n",
       "4  2019-05-24                  605"
      ]
     },
     "execution_count": 28,
     "metadata": {},
     "output_type": "execute_result"
    }
   ],
   "source": [
    "# ur = unregistered \n",
    "# find total number of transactions done per day \n",
    "df_ur_transaction = df_unregistered.groupby(\"basket_date\")[\"basket_count\"].sum().reset_index(name = \"transactions\")\n",
    "df_ur_transaction.sort_values(\"basket_date\", inplace = True)\n",
    "\n",
    "#find total number of users per day \n",
    "df_ur_customer = df_unregistered.groupby(\"basket_date\")[\"customer_id\"].count().reset_index(name = \"number_of_customers\")\n",
    "df_ur_customer.sort_values(\"basket_date\", inplace = True)\n",
    "\n",
    "df_ur_customer.head()"
   ]
  },
  {
   "cell_type": "markdown",
   "id": "3664aaed",
   "metadata": {
    "papermill": {
     "duration": 0.048133,
     "end_time": "2022-02-18T10:30:38.438169",
     "exception": false,
     "start_time": "2022-02-18T10:30:38.390036",
     "status": "completed"
    },
    "tags": []
   },
   "source": [
    "a. The total number of transactions and customers on the E-commerce platform peaked near the end of the month (25th-28th May 2019). There were also presence of slight peaks from 8-11th June 2019 and 14-16th June 2019. Lets narrow down to see if there are any noticeable trend per week. "
   ]
  },
  {
   "cell_type": "code",
   "execution_count": 29,
   "id": "5ff7faaf",
   "metadata": {
    "_kg_hide-input": true,
    "execution": {
     "iopub.execute_input": "2022-02-18T10:30:38.546770Z",
     "iopub.status.busy": "2022-02-18T10:30:38.546278Z",
     "iopub.status.idle": "2022-02-18T10:30:38.858185Z",
     "shell.execute_reply": "2022-02-18T10:30:38.857789Z"
    },
    "papermill": {
     "duration": 0.369414,
     "end_time": "2022-02-18T10:30:38.858285",
     "exception": false,
     "start_time": "2022-02-18T10:30:38.488871",
     "status": "completed"
    },
    "tags": []
   },
   "outputs": [
    {
     "data": {
      "image/png": "[encoded data removed]",
      "text/plain": [
       "<Figure size 720x360 with 1 Axes>"
      ]
     },
     "metadata": {},
     "output_type": "display_data"
    }
   ],
   "source": [
    "plt.figure(figsize = (10,5))\n",
    "\n",
    "plt.plot(df_ur_transaction.basket_date, df_ur_transaction.transactions, marker = \"o\",\n",
    "         markersize = 4, color = \"salmon\", linewidth = 2, label = \"Total Transactions\")\n",
    "plt.bar(df_ur_customer.basket_date, df_ur_customer.number_of_customers, color = \"lightslategrey\", \n",
    "        alpha = 0.6, label = \"Total Unique Customers\")\n",
    "\n",
    "x_label = df_ur_customer.basket_date.tolist()\n",
    "\n",
    "plt.xticks(x_label, rotation = 90, size = 9, ha = \"left\")\n",
    "\n",
    "plt.title(\"Total Transactions & Customers Per Day\", size = 15)\n",
    "\n",
    "plt.legend()\n",
    "\n",
    "plt.show()"
   ]
  },
  {
   "cell_type": "code",
   "execution_count": 30,
   "id": "6b2c0865",
   "metadata": {
    "execution": {
     "iopub.execute_input": "2022-02-18T10:30:38.960812Z",
     "iopub.status.busy": "2022-02-18T10:30:38.960075Z",
     "iopub.status.idle": "2022-02-18T10:30:38.975424Z",
     "shell.execute_reply": "2022-02-18T10:30:38.975816Z"
    },
    "papermill": {
     "duration": 0.067787,
     "end_time": "2022-02-18T10:30:38.975945",
     "exception": false,
     "start_time": "2022-02-18T10:30:38.908158",
     "status": "completed"
    },
    "tags": []
   },
   "outputs": [
    {
     "data": {
      "text/html": [
       "<div>\n",
       "<style scoped>\n",
       "    .dataframe tbody tr th:only-of-type {\n",
       "        vertical-align: middle;\n",
       "    }\n",
       "\n",
       "    .dataframe tbody tr th {\n",
       "        vertical-align: top;\n",
       "    }\n",
       "\n",
       "    .dataframe thead th {\n",
       "        text-align: right;\n",
       "    }\n",
       "</style>\n",
       "<table border=\"1\" class=\"dataframe\">\n",
       "  <thead>\n",
       "    <tr style=\"text-align: right;\">\n",
       "      <th></th>\n",
       "      <th>basket_date</th>\n",
       "      <th>transactions</th>\n",
       "      <th>day_of_week</th>\n",
       "      <th>week_rank</th>\n",
       "    </tr>\n",
       "  </thead>\n",
       "  <tbody>\n",
       "    <tr>\n",
       "      <th>0</th>\n",
       "      <td>2019-05-20</td>\n",
       "      <td>1110</td>\n",
       "      <td>Mon</td>\n",
       "      <td>1.0</td>\n",
       "    </tr>\n",
       "    <tr>\n",
       "      <th>1</th>\n",
       "      <td>2019-05-21</td>\n",
       "      <td>964</td>\n",
       "      <td>Tue</td>\n",
       "      <td>1.0</td>\n",
       "    </tr>\n",
       "    <tr>\n",
       "      <th>2</th>\n",
       "      <td>2019-05-22</td>\n",
       "      <td>584</td>\n",
       "      <td>Wed</td>\n",
       "      <td>1.0</td>\n",
       "    </tr>\n",
       "    <tr>\n",
       "      <th>3</th>\n",
       "      <td>2019-05-23</td>\n",
       "      <td>597</td>\n",
       "      <td>Thu</td>\n",
       "      <td>1.0</td>\n",
       "    </tr>\n",
       "    <tr>\n",
       "      <th>4</th>\n",
       "      <td>2019-05-24</td>\n",
       "      <td>1275</td>\n",
       "      <td>Fri</td>\n",
       "      <td>1.0</td>\n",
       "    </tr>\n",
       "    <tr>\n",
       "      <th>5</th>\n",
       "      <td>2019-05-25</td>\n",
       "      <td>2455</td>\n",
       "      <td>Sat</td>\n",
       "      <td>1.0</td>\n",
       "    </tr>\n",
       "    <tr>\n",
       "      <th>6</th>\n",
       "      <td>2019-05-26</td>\n",
       "      <td>3380</td>\n",
       "      <td>Sun</td>\n",
       "      <td>1.0</td>\n",
       "    </tr>\n",
       "    <tr>\n",
       "      <th>7</th>\n",
       "      <td>2019-05-27</td>\n",
       "      <td>3462</td>\n",
       "      <td>Mon</td>\n",
       "      <td>2.0</td>\n",
       "    </tr>\n",
       "    <tr>\n",
       "      <th>8</th>\n",
       "      <td>2019-05-28</td>\n",
       "      <td>2703</td>\n",
       "      <td>Tue</td>\n",
       "      <td>2.0</td>\n",
       "    </tr>\n",
       "    <tr>\n",
       "      <th>9</th>\n",
       "      <td>2019-05-29</td>\n",
       "      <td>1016</td>\n",
       "      <td>Wed</td>\n",
       "      <td>2.0</td>\n",
       "    </tr>\n",
       "  </tbody>\n",
       "</table>\n",
       "</div>"
      ],
      "text/plain": [
       "  basket_date  transactions day_of_week  week_rank\n",
       "0  2019-05-20          1110         Mon        1.0\n",
       "1  2019-05-21           964         Tue        1.0\n",
       "2  2019-05-22           584         Wed        1.0\n",
       "3  2019-05-23           597         Thu        1.0\n",
       "4  2019-05-24          1275         Fri        1.0\n",
       "5  2019-05-25          2455         Sat        1.0\n",
       "6  2019-05-26          3380         Sun        1.0\n",
       "7  2019-05-27          3462         Mon        2.0\n",
       "8  2019-05-28          2703         Tue        2.0\n",
       "9  2019-05-29          1016         Wed        2.0"
      ]
     },
     "execution_count": 30,
     "metadata": {},
     "output_type": "execute_result"
    }
   ],
   "source": [
    "#add new column showing day of week\n",
    "df_ur_transaction[\"day_of_week\"] = df_ur_transaction[\"basket_date\"].dt.strftime('%a')\n",
    "\n",
    "#rank the weeks \n",
    "df_ur_transaction[\"week_rank\"] = df_ur_transaction.groupby(\"day_of_week\")[\"basket_date\"].rank(method = \"first\")\n",
    "\n",
    "#week 5 has data only from mon - wed\n",
    "#we will remove it from the plot \n",
    "df_ur_transaction_1 = df_ur_transaction[df_ur_transaction.week_rank != 5]\n",
    "\n",
    "df_ur_transaction_1.head(10)"
   ]
  },
  {
   "cell_type": "markdown",
   "id": "3c36265a",
   "metadata": {
    "papermill": {
     "duration": 0.050842,
     "end_time": "2022-02-18T10:30:39.077380",
     "exception": false,
     "start_time": "2022-02-18T10:30:39.026538",
     "status": "completed"
    },
    "tags": []
   },
   "source": [
    "b. We can see that for week 1, 3 and 4, thursdays have the lowest volume of transaction. However, for week 2, the volume of transaction decreases through the week. This could be due to the after effects of sudden huge peak that occured on week 1 Sunday. In order to confirm this, more data should be collected and compared to. "
   ]
  },
  {
   "cell_type": "code",
   "execution_count": 31,
   "id": "84911120",
   "metadata": {
    "_kg_hide-input": true,
    "execution": {
     "iopub.execute_input": "2022-02-18T10:30:39.204619Z",
     "iopub.status.busy": "2022-02-18T10:30:39.197717Z",
     "iopub.status.idle": "2022-02-18T10:30:39.879179Z",
     "shell.execute_reply": "2022-02-18T10:30:39.878314Z"
    },
    "papermill": {
     "duration": 0.750225,
     "end_time": "2022-02-18T10:30:39.879319",
     "exception": false,
     "start_time": "2022-02-18T10:30:39.129094",
     "status": "completed"
    },
    "tags": []
   },
   "outputs": [
    {
     "data": {
      "image/png": "[encoded data removed]",
      "text/plain": [
       "<Figure size 925.5x216 with 4 Axes>"
      ]
     },
     "metadata": {},
     "output_type": "display_data"
    }
   ],
   "source": [
    "plt.style.use('ggplot')\n",
    "\n",
    "palette = [\"indianred\", \"rosybrown\", \"royalblue\", \"lightseagreen\"]\n",
    "\n",
    "g = sns.relplot(data = df_ur_transaction_1,\n",
    "           x = \"day_of_week\", y = \"transactions\", \n",
    "           hue = \"week_rank\", col = \"week_rank\",\n",
    "            col_wrap = 4,\n",
    "           kind = \"line\",\n",
    "           linewidth = 2,\n",
    "            palette = palette,\n",
    "           marker = \".\", \n",
    "           alpha = 0.8, \n",
    "            height = 3,\n",
    "          aspect = 1)\n",
    "\n",
    "axes = g.axes.flatten()\n",
    "\n",
    "title = [\"Week 1\", \"Week 2\", \"Week 3\", \"Week 4\"]\n",
    "y_arrow = [1400, 1250, 1150, 1150]\n",
    "\n",
    "#set grid style for all axes \n",
    "for i in range(len(title)):\n",
    "    axes[i].set_title(title[i], size = 10)\n",
    "    if i != 1:\n",
    "        axes[i].arrow(3, y_arrow[i], 0, -500, head_width = 0.3,\n",
    "             head_length = 100, fc ='grey', ec ='grey')\n",
    "    else:\n",
    "        axes[i].arrow(6, y_arrow[i], 0, -500, head_width = 0.3,\n",
    "             head_length = 100, fc ='red', ec ='red', alpha = 0.5)\n",
    "\n",
    "g.fig.suptitle(\"Total Transaction Per Week\", y = 1)\n",
    "\n",
    "g.set_xlabels(\"Day of Week\")\n",
    "g.set_ylabels(\"Total Transaction\")\n",
    "\n",
    "\n",
    "plt.show()"
   ]
  },
  {
   "cell_type": "markdown",
   "id": "6ffda98b",
   "metadata": {
    "papermill": {
     "duration": 0.077901,
     "end_time": "2022-02-18T10:30:40.035905",
     "exception": false,
     "start_time": "2022-02-18T10:30:39.958004",
     "status": "completed"
    },
    "tags": []
   },
   "source": [
    "## 6. Registered Customers Transactions\n",
    "a. As there are only 64 unique customers, we expect the available data points to be extremeley low as compared to unregistered customers. While conducting time series analysis, it is predicted that due to insufficient data, we will be unable to clearly identify trends. "
   ]
  },
  {
   "cell_type": "code",
   "execution_count": 32,
   "id": "f36aac1a",
   "metadata": {
    "execution": {
     "iopub.execute_input": "2022-02-18T10:30:40.196199Z",
     "iopub.status.busy": "2022-02-18T10:30:40.195323Z",
     "iopub.status.idle": "2022-02-18T10:30:40.206947Z",
     "shell.execute_reply": "2022-02-18T10:30:40.207477Z"
    },
    "papermill": {
     "duration": 0.093566,
     "end_time": "2022-02-18T10:30:40.207650",
     "exception": false,
     "start_time": "2022-02-18T10:30:40.114084",
     "status": "completed"
    },
    "tags": []
   },
   "outputs": [
    {
     "data": {
      "text/html": [
       "<div>\n",
       "<style scoped>\n",
       "    .dataframe tbody tr th:only-of-type {\n",
       "        vertical-align: middle;\n",
       "    }\n",
       "\n",
       "    .dataframe tbody tr th {\n",
       "        vertical-align: top;\n",
       "    }\n",
       "\n",
       "    .dataframe thead th {\n",
       "        text-align: right;\n",
       "    }\n",
       "</style>\n",
       "<table border=\"1\" class=\"dataframe\">\n",
       "  <thead>\n",
       "    <tr style=\"text-align: right;\">\n",
       "      <th></th>\n",
       "      <th>customer_id</th>\n",
       "      <th>product_id</th>\n",
       "      <th>basket_date</th>\n",
       "      <th>basket_count</th>\n",
       "      <th>sex</th>\n",
       "      <th>customer_age</th>\n",
       "      <th>tenure</th>\n",
       "    </tr>\n",
       "  </thead>\n",
       "  <tbody>\n",
       "    <tr>\n",
       "      <th>9408</th>\n",
       "      <td>15141119</td>\n",
       "      <td>4033598</td>\n",
       "      <td>2019-05-20</td>\n",
       "      <td>2</td>\n",
       "      <td>Female</td>\n",
       "      <td>123.0</td>\n",
       "      <td>38.0</td>\n",
       "    </tr>\n",
       "    <tr>\n",
       "      <th>10423</th>\n",
       "      <td>4912369</td>\n",
       "      <td>33923115</td>\n",
       "      <td>2019-05-20</td>\n",
       "      <td>2</td>\n",
       "      <td>Male</td>\n",
       "      <td>36.0</td>\n",
       "      <td>114.0</td>\n",
       "    </tr>\n",
       "    <tr>\n",
       "      <th>8516</th>\n",
       "      <td>8508353</td>\n",
       "      <td>47709800</td>\n",
       "      <td>2019-05-21</td>\n",
       "      <td>2</td>\n",
       "      <td>Male</td>\n",
       "      <td>36.0</td>\n",
       "      <td>102.0</td>\n",
       "    </tr>\n",
       "    <tr>\n",
       "      <th>14326</th>\n",
       "      <td>14248059</td>\n",
       "      <td>48790153</td>\n",
       "      <td>2019-05-21</td>\n",
       "      <td>2</td>\n",
       "      <td>Male</td>\n",
       "      <td>29.0</td>\n",
       "      <td>41.0</td>\n",
       "    </tr>\n",
       "    <tr>\n",
       "      <th>9335</th>\n",
       "      <td>12737235</td>\n",
       "      <td>46373374</td>\n",
       "      <td>2019-05-21</td>\n",
       "      <td>3</td>\n",
       "      <td>Male</td>\n",
       "      <td>39.0</td>\n",
       "      <td>51.0</td>\n",
       "    </tr>\n",
       "  </tbody>\n",
       "</table>\n",
       "</div>"
      ],
      "text/plain": [
       "      customer_id  product_id basket_date  basket_count     sex  customer_age  \\\n",
       "9408     15141119     4033598  2019-05-20             2  Female         123.0   \n",
       "10423     4912369    33923115  2019-05-20             2    Male          36.0   \n",
       "8516      8508353    47709800  2019-05-21             2    Male          36.0   \n",
       "14326    14248059    48790153  2019-05-21             2    Male          29.0   \n",
       "9335     12737235    46373374  2019-05-21             3    Male          39.0   \n",
       "\n",
       "       tenure  \n",
       "9408     38.0  \n",
       "10423   114.0  \n",
       "8516    102.0  \n",
       "14326    41.0  \n",
       "9335     51.0  "
      ]
     },
     "execution_count": 32,
     "metadata": {},
     "output_type": "execute_result"
    }
   ],
   "source": [
    "#filter out registered customers and remove unecessary column\n",
    "df_registered = df_overall_notnull.sort_values(\"basket_date\")\n",
    "df_registered.head()"
   ]
  },
  {
   "cell_type": "code",
   "execution_count": 33,
   "id": "5ba90aa9",
   "metadata": {
    "execution": {
     "iopub.execute_input": "2022-02-18T10:30:40.370945Z",
     "iopub.status.busy": "2022-02-18T10:30:40.370359Z",
     "iopub.status.idle": "2022-02-18T10:30:40.382341Z",
     "shell.execute_reply": "2022-02-18T10:30:40.382853Z"
    },
    "papermill": {
     "duration": 0.095115,
     "end_time": "2022-02-18T10:30:40.383034",
     "exception": false,
     "start_time": "2022-02-18T10:30:40.287919",
     "status": "completed"
    },
    "tags": []
   },
   "outputs": [
    {
     "data": {
      "text/html": [
       "<div>\n",
       "<style scoped>\n",
       "    .dataframe tbody tr th:only-of-type {\n",
       "        vertical-align: middle;\n",
       "    }\n",
       "\n",
       "    .dataframe tbody tr th {\n",
       "        vertical-align: top;\n",
       "    }\n",
       "\n",
       "    .dataframe thead th {\n",
       "        text-align: right;\n",
       "    }\n",
       "</style>\n",
       "<table border=\"1\" class=\"dataframe\">\n",
       "  <thead>\n",
       "    <tr style=\"text-align: right;\">\n",
       "      <th></th>\n",
       "      <th>basket_date</th>\n",
       "      <th>number_of_customers</th>\n",
       "    </tr>\n",
       "  </thead>\n",
       "  <tbody>\n",
       "    <tr>\n",
       "      <th>0</th>\n",
       "      <td>2019-05-20</td>\n",
       "      <td>2</td>\n",
       "    </tr>\n",
       "    <tr>\n",
       "      <th>1</th>\n",
       "      <td>2019-05-21</td>\n",
       "      <td>6</td>\n",
       "    </tr>\n",
       "    <tr>\n",
       "      <th>2</th>\n",
       "      <td>2019-05-22</td>\n",
       "      <td>4</td>\n",
       "    </tr>\n",
       "    <tr>\n",
       "      <th>3</th>\n",
       "      <td>2019-05-23</td>\n",
       "      <td>1</td>\n",
       "    </tr>\n",
       "    <tr>\n",
       "      <th>4</th>\n",
       "      <td>2019-05-24</td>\n",
       "      <td>6</td>\n",
       "    </tr>\n",
       "  </tbody>\n",
       "</table>\n",
       "</div>"
      ],
      "text/plain": [
       "  basket_date  number_of_customers\n",
       "0  2019-05-20                    2\n",
       "1  2019-05-21                    6\n",
       "2  2019-05-22                    4\n",
       "3  2019-05-23                    1\n",
       "4  2019-05-24                    6"
      ]
     },
     "execution_count": 33,
     "metadata": {},
     "output_type": "execute_result"
    }
   ],
   "source": [
    "# reg = registered \n",
    "# find total number of transactions done per day \n",
    "df_reg_transaction = df_registered.groupby(\"basket_date\")[\"basket_count\"].sum().reset_index(name = \"transactions\")\n",
    "df_reg_transaction.sort_values(\"basket_date\", inplace = True)\n",
    "\n",
    "#find total number of users per day \n",
    "df_reg_customer = df_registered.groupby(\"basket_date\")[\"customer_id\"].count().reset_index(name = \"number_of_customers\")\n",
    "df_reg_customer.sort_values(\"basket_date\", inplace = True)\n",
    "\n",
    "df_reg_customer.head()"
   ]
  },
  {
   "cell_type": "code",
   "execution_count": 34,
   "id": "fd1471cb",
   "metadata": {
    "execution": {
     "iopub.execute_input": "2022-02-18T10:30:40.545022Z",
     "iopub.status.busy": "2022-02-18T10:30:40.544395Z",
     "iopub.status.idle": "2022-02-18T10:30:40.555653Z",
     "shell.execute_reply": "2022-02-18T10:30:40.556126Z"
    },
    "papermill": {
     "duration": 0.094493,
     "end_time": "2022-02-18T10:30:40.556284",
     "exception": false,
     "start_time": "2022-02-18T10:30:40.461791",
     "status": "completed"
    },
    "tags": []
   },
   "outputs": [
    {
     "data": {
      "text/plain": [
       "basket_date            0\n",
       "number_of_customers    0\n",
       "dtype: int64"
      ]
     },
     "execution_count": 34,
     "metadata": {},
     "output_type": "execute_result"
    }
   ],
   "source": [
    "#include all dates by left join\n",
    "df_reg_customer_1 = pd.merge(df_ur_customer.basket_date.to_frame(), df_reg_customer, how = \"left\", left_on = \"basket_date\",\n",
    "                            right_on = \"basket_date\")\n",
    "\n",
    "#replace NaN values with 0\n",
    "df_reg_customer_1.fillna(0, inplace = True)\n",
    "\n",
    "#check that there are no NaN values \n",
    "df_reg_customer_1.isna().sum()"
   ]
  },
  {
   "cell_type": "code",
   "execution_count": 35,
   "id": "728021f1",
   "metadata": {
    "execution": {
     "iopub.execute_input": "2022-02-18T10:30:40.718161Z",
     "iopub.status.busy": "2022-02-18T10:30:40.717562Z",
     "iopub.status.idle": "2022-02-18T10:30:40.726355Z",
     "shell.execute_reply": "2022-02-18T10:30:40.726922Z"
    },
    "papermill": {
     "duration": 0.09122,
     "end_time": "2022-02-18T10:30:40.727084",
     "exception": false,
     "start_time": "2022-02-18T10:30:40.635864",
     "status": "completed"
    },
    "tags": []
   },
   "outputs": [
    {
     "data": {
      "text/plain": [
       "basket_date     0\n",
       "transactions    0\n",
       "dtype: int64"
      ]
     },
     "execution_count": 35,
     "metadata": {},
     "output_type": "execute_result"
    }
   ],
   "source": [
    "#repeat for transaction \n",
    "df_reg_transaction_2 = pd.merge(df_ur_transaction.basket_date.to_frame(), df_reg_transaction, how = \"left\", left_on = \"basket_date\",\n",
    "                            right_on = \"basket_date\")\n",
    "\n",
    "df_reg_transaction_2.fillna(0, inplace = True)\n",
    "\n",
    "df_reg_transaction_2.isna().sum()"
   ]
  },
  {
   "cell_type": "markdown",
   "id": "43912f82",
   "metadata": {
    "papermill": {
     "duration": 0.08147,
     "end_time": "2022-02-18T10:30:40.889730",
     "exception": false,
     "start_time": "2022-02-18T10:30:40.808260",
     "status": "completed"
    },
    "tags": []
   },
   "source": [
    "b. The graph below roughly matches the time series graph for unregistered customers. However, more data needs to be collected for this group of customers in order to clearly identify any trends with highest/lowest transaction in a day.  "
   ]
  },
  {
   "cell_type": "code",
   "execution_count": 36,
   "id": "6fecd57f",
   "metadata": {
    "_kg_hide-input": true,
    "execution": {
     "iopub.execute_input": "2022-02-18T10:30:41.054476Z",
     "iopub.status.busy": "2022-02-18T10:30:41.053840Z",
     "iopub.status.idle": "2022-02-18T10:30:41.382605Z",
     "shell.execute_reply": "2022-02-18T10:30:41.383119Z"
    },
    "papermill": {
     "duration": 0.412649,
     "end_time": "2022-02-18T10:30:41.383270",
     "exception": false,
     "start_time": "2022-02-18T10:30:40.970621",
     "status": "completed"
    },
    "tags": []
   },
   "outputs": [
    {
     "data": {
      "image/png": "[encoded data removed]",
      "text/plain": [
       "<Figure size 720x360 with 1 Axes>"
      ]
     },
     "metadata": {},
     "output_type": "display_data"
    }
   ],
   "source": [
    "plt.figure(figsize = (10,5))\n",
    "\n",
    "plt.plot(df_reg_transaction_2.basket_date, df_reg_transaction_2.transactions, marker = \"o\",\n",
    "         markersize = 4, color = \"forestgreen\", linewidth = 2, alpha = 0.7, label = \"Total Transactions\")\n",
    "plt.bar(df_reg_customer_1.basket_date, df_reg_customer_1.number_of_customers, color = \"lightslategrey\", \n",
    "        alpha = 0.6, label = \"Total Unique Customers\")\n",
    "\n",
    "x_label = df_reg_customer_1.basket_date.tolist()\n",
    "\n",
    "plt.xticks(x_label, rotation = 90, size = 9, ha = \"left\")\n",
    "\n",
    "plt.title(\"Total Transactions & Customers Per Day\", size = 15)\n",
    "\n",
    "plt.legend()\n",
    "\n",
    "plt.show()"
   ]
  },
  {
   "cell_type": "markdown",
   "id": "25657f4b",
   "metadata": {
    "papermill": {
     "duration": 0.081231,
     "end_time": "2022-02-18T10:30:41.546311",
     "exception": false,
     "start_time": "2022-02-18T10:30:41.465080",
     "status": "completed"
    },
    "tags": []
   },
   "source": [
    "## 7. Final Thoughts\n",
    "Due to huge percentage of unmatching customer id between both datasets, **there were some analysis that we could not carry out, such as identifying whether there is a correlation between sex/ages/tenure of customer during peak and non peak periods.** \n",
    "\n",
    "Nevertheless, we assumed users found in df_basket and not in df_details are unregistered users and ocnducted an analysis to determine that **generally Thursdays are the days with lowest transactions**. Also a **huge peak from 25th - 28th May** could be a result of **huge sales conducted** by the e-commerce platform. \n",
    "\n",
    "*It is still critical to note that we have 64 registered VS 13,000 unregistered uses who have made a transaction. This also means that out of the 20000 registered users, 64 has made a transaction and ~19036 has not made any transactions. For the purpose of this analysis, we will assume this is the case. However in reality, we would have to confirm with the stakeholder as it is most likely that there is an error with df_details dataset.*\n",
    "\n",
    "We also worked with the available data by filtering out datapoints with invalid ages and are still able to **work with ~12,000 data points, down from 20,000**. However it is advisable that the ages should reflect correct numerical values in order to reflect the true results of customer's age distribution. \n",
    "\n",
    "There are ** three times more male than female** users. However, both genders have **similar age and tenure distribution**, with most user in their **late twenties and early thirties**. Users in their **late twenties have about 2 years tenure** while users in **early thirties have about 8 years tenure**. \n"
   ]
  }
 ],
 "metadata": {
  "kernelspec": {
   "display_name": "Python 3",
   "language": "python",
   "name": "python3"
  },
  "language_info": {
   "codemirror_mode": {
    "name": "ipython",
    "version": 3
   },
   "file_extension": ".py",
   "mimetype": "text/x-python",
   "name": "python",
   "nbconvert_exporter": "python",
   "pygments_lexer": "ipython3",
   "version": "3.7.12"
  },
  "papermill": {
   "default_parameters": {},
   "duration": 25.914186,
   "end_time": "2022-02-18T10:30:42.338147",
   "environment_variables": {},
   "exception": null,
   "input_path": "__notebook__.ipynb",
   "output_path": "__notebook__.ipynb",
   "parameters": {},
   "start_time": "2022-02-18T10:30:16.423961",
   "version": "2.3.3"
  }
 },
 "nbformat": 4,
 "nbformat_minor": 5
}
